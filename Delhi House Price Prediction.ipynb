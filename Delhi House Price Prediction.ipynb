{
 "cells": [
  {
   "cell_type": "markdown",
   "id": "f2532e6b",
   "metadata": {},
   "source": [
    "# Delhi House Price Prediction"
   ]
  },
  {
   "cell_type": "markdown",
   "id": "69686fcf",
   "metadata": {},
   "source": [
    "The aim of this project to predict the price of the houses in Delhi, in various localities, based on the data present in the dataset. The dataset is from Kaggle. The project aims to predicts the house price, by analysing the features such as area, number of bedrooms, locality and many more. The dataset has 1259 rows and 11 columns."
   ]
  },
  {
   "cell_type": "markdown",
   "id": "c9cf88a8",
   "metadata": {},
   "source": [
    "## Data Dictionary"
   ]
  },
  {
   "cell_type": "markdown",
   "id": "88bee4e9",
   "metadata": {},
   "source": [
    "1. Area: \tArea of the house in square feet\n",
    "2. BHK:\tNumber of bedrooms\n",
    "3. Bathroom:\tNumber of bathrooms\n",
    "4. Furnishing:\tFurnishing status\n",
    "5. Locality:\tLocality of the house\n",
    "6. Parking:\tNumber of parking available\n",
    "7. Price:\tPrice of the house in INR\n",
    "8. Status:\tproperty's status as in 'ready to move' or still under construction\n",
    "9. Transaction:\tIts a new property or being re-sold\n",
    "10. Type:\tType of the property\n",
    "11. Per_Sqft:\tPrice per square feet"
   ]
  },
  {
   "cell_type": "code",
   "execution_count": 1,
   "id": "7fc011ba",
   "metadata": {},
   "outputs": [
    {
     "name": "stderr",
     "output_type": "stream",
     "text": [
      "C:\\Users\\enama\\anaconda3\\lib\\site-packages\\scipy\\__init__.py:146: UserWarning: A NumPy version >=1.16.5 and <1.23.0 is required for this version of SciPy (detected version 1.26.1\n",
      "  warnings.warn(f\"A NumPy version >={np_minversion} and <{np_maxversion}\"\n"
     ]
    }
   ],
   "source": [
    "# Importing the libraries\n",
    "import numpy as np\n",
    "import matplotlib.pyplot as plt\n",
    "import pandas as pd\n",
    "import seaborn as sns"
   ]
  },
  {
   "cell_type": "code",
   "execution_count": 2,
   "id": "e02ea9b1",
   "metadata": {},
   "outputs": [
    {
     "data": {
      "text/html": [
       "<div>\n",
       "<style scoped>\n",
       "    .dataframe tbody tr th:only-of-type {\n",
       "        vertical-align: middle;\n",
       "    }\n",
       "\n",
       "    .dataframe tbody tr th {\n",
       "        vertical-align: top;\n",
       "    }\n",
       "\n",
       "    .dataframe thead th {\n",
       "        text-align: right;\n",
       "    }\n",
       "</style>\n",
       "<table border=\"1\" class=\"dataframe\">\n",
       "  <thead>\n",
       "    <tr style=\"text-align: right;\">\n",
       "      <th></th>\n",
       "      <th>Area</th>\n",
       "      <th>BHK</th>\n",
       "      <th>Bathroom</th>\n",
       "      <th>Furnishing</th>\n",
       "      <th>Locality</th>\n",
       "      <th>Parking</th>\n",
       "      <th>Price</th>\n",
       "      <th>Status</th>\n",
       "      <th>Transaction</th>\n",
       "      <th>Type</th>\n",
       "      <th>Per_Sqft</th>\n",
       "    </tr>\n",
       "  </thead>\n",
       "  <tbody>\n",
       "    <tr>\n",
       "      <th>0</th>\n",
       "      <td>800.0</td>\n",
       "      <td>3</td>\n",
       "      <td>2.0</td>\n",
       "      <td>Semi-Furnished</td>\n",
       "      <td>Rohini Sector 25</td>\n",
       "      <td>1.0</td>\n",
       "      <td>6500000</td>\n",
       "      <td>Ready_to_move</td>\n",
       "      <td>New_Property</td>\n",
       "      <td>Builder_Floor</td>\n",
       "      <td>NaN</td>\n",
       "    </tr>\n",
       "    <tr>\n",
       "      <th>1</th>\n",
       "      <td>750.0</td>\n",
       "      <td>2</td>\n",
       "      <td>2.0</td>\n",
       "      <td>Semi-Furnished</td>\n",
       "      <td>J R Designers Floors, Rohini Sector 24</td>\n",
       "      <td>1.0</td>\n",
       "      <td>5000000</td>\n",
       "      <td>Ready_to_move</td>\n",
       "      <td>New_Property</td>\n",
       "      <td>Apartment</td>\n",
       "      <td>6667.0</td>\n",
       "    </tr>\n",
       "    <tr>\n",
       "      <th>2</th>\n",
       "      <td>950.0</td>\n",
       "      <td>2</td>\n",
       "      <td>2.0</td>\n",
       "      <td>Furnished</td>\n",
       "      <td>Citizen Apartment, Rohini Sector 13</td>\n",
       "      <td>1.0</td>\n",
       "      <td>15500000</td>\n",
       "      <td>Ready_to_move</td>\n",
       "      <td>Resale</td>\n",
       "      <td>Apartment</td>\n",
       "      <td>6667.0</td>\n",
       "    </tr>\n",
       "    <tr>\n",
       "      <th>3</th>\n",
       "      <td>600.0</td>\n",
       "      <td>2</td>\n",
       "      <td>2.0</td>\n",
       "      <td>Semi-Furnished</td>\n",
       "      <td>Rohini Sector 24</td>\n",
       "      <td>1.0</td>\n",
       "      <td>4200000</td>\n",
       "      <td>Ready_to_move</td>\n",
       "      <td>Resale</td>\n",
       "      <td>Builder_Floor</td>\n",
       "      <td>6667.0</td>\n",
       "    </tr>\n",
       "    <tr>\n",
       "      <th>4</th>\n",
       "      <td>650.0</td>\n",
       "      <td>2</td>\n",
       "      <td>2.0</td>\n",
       "      <td>Semi-Furnished</td>\n",
       "      <td>Rohini Sector 24 carpet area 650 sqft status R...</td>\n",
       "      <td>1.0</td>\n",
       "      <td>6200000</td>\n",
       "      <td>Ready_to_move</td>\n",
       "      <td>New_Property</td>\n",
       "      <td>Builder_Floor</td>\n",
       "      <td>6667.0</td>\n",
       "    </tr>\n",
       "  </tbody>\n",
       "</table>\n",
       "</div>"
      ],
      "text/plain": [
       "    Area  BHK  Bathroom      Furnishing  \\\n",
       "0  800.0    3       2.0  Semi-Furnished   \n",
       "1  750.0    2       2.0  Semi-Furnished   \n",
       "2  950.0    2       2.0       Furnished   \n",
       "3  600.0    2       2.0  Semi-Furnished   \n",
       "4  650.0    2       2.0  Semi-Furnished   \n",
       "\n",
       "                                            Locality  Parking     Price  \\\n",
       "0                                   Rohini Sector 25      1.0   6500000   \n",
       "1             J R Designers Floors, Rohini Sector 24      1.0   5000000   \n",
       "2                Citizen Apartment, Rohini Sector 13      1.0  15500000   \n",
       "3                                   Rohini Sector 24      1.0   4200000   \n",
       "4  Rohini Sector 24 carpet area 650 sqft status R...      1.0   6200000   \n",
       "\n",
       "          Status   Transaction           Type  Per_Sqft  \n",
       "0  Ready_to_move  New_Property  Builder_Floor       NaN  \n",
       "1  Ready_to_move  New_Property      Apartment    6667.0  \n",
       "2  Ready_to_move        Resale      Apartment    6667.0  \n",
       "3  Ready_to_move        Resale  Builder_Floor    6667.0  \n",
       "4  Ready_to_move  New_Property  Builder_Floor    6667.0  "
      ]
     },
     "execution_count": 2,
     "metadata": {},
     "output_type": "execute_result"
    }
   ],
   "source": [
    "# loading the dataset\n",
    "df = pd.read_csv('MagicBricks.csv')\n",
    "df.head()"
   ]
  },
  {
   "cell_type": "markdown",
   "id": "88484761",
   "metadata": {},
   "source": [
    "## Data Preprocessing 1"
   ]
  },
  {
   "cell_type": "code",
   "execution_count": 3,
   "id": "bf607db7",
   "metadata": {},
   "outputs": [
    {
     "data": {
      "text/plain": [
       "(1259, 11)"
      ]
     },
     "execution_count": 3,
     "metadata": {},
     "output_type": "execute_result"
    }
   ],
   "source": [
    "df.shape"
   ]
  },
  {
   "cell_type": "code",
   "execution_count": 4,
   "id": "d63941ba",
   "metadata": {},
   "outputs": [
    {
     "data": {
      "text/plain": [
       "Area             0\n",
       "BHK              0\n",
       "Bathroom         2\n",
       "Furnishing       5\n",
       "Locality         0\n",
       "Parking         33\n",
       "Price            0\n",
       "Status           0\n",
       "Transaction      0\n",
       "Type             5\n",
       "Per_Sqft       241\n",
       "dtype: int64"
      ]
     },
     "execution_count": 4,
     "metadata": {},
     "output_type": "execute_result"
    }
   ],
   "source": [
    "df.isnull().sum()"
   ]
  },
  {
   "cell_type": "markdown",
   "id": "76eae1ac",
   "metadata": {},
   "source": [
    "The dataset has five columns with missing values - Parking, Bathroom, Furnishing, Type and Per_Sqft. Finding value for Per_Sqft is quite easy. We have to divide Price by Area to get Per_Sqft. To find the missing values in Parking, Bathroom, Furnishing and Type, I will replace the missing values with the mode of them."
   ]
  },
  {
   "cell_type": "code",
   "execution_count": 5,
   "id": "3e8e5836",
   "metadata": {},
   "outputs": [],
   "source": [
    "df['Per_Sqft'] = df['Per_Sqft'].fillna(df['Price']/df['Area'])"
   ]
  },
  {
   "cell_type": "code",
   "execution_count": 6,
   "id": "b2bf9ec1",
   "metadata": {},
   "outputs": [],
   "source": [
    "df['Parking'].fillna(df['Parking'].mode()[0],inplace=True)\n",
    "df['Bathroom'].fillna(df['Bathroom'].mode()[0],inplace=True)\n",
    "df['Furnishing'].fillna(df['Furnishing'].mode()[0],inplace=True)\n",
    "df['Type'].fillna(df['Type'].mode()[0],inplace=True)"
   ]
  },
  {
   "cell_type": "code",
   "execution_count": 7,
   "id": "f9016edc",
   "metadata": {},
   "outputs": [
    {
     "data": {
      "text/plain": [
       "Area           0\n",
       "BHK            0\n",
       "Bathroom       0\n",
       "Furnishing     0\n",
       "Locality       0\n",
       "Parking        0\n",
       "Price          0\n",
       "Status         0\n",
       "Transaction    0\n",
       "Type           0\n",
       "Per_Sqft       0\n",
       "dtype: int64"
      ]
     },
     "execution_count": 7,
     "metadata": {},
     "output_type": "execute_result"
    }
   ],
   "source": [
    "df.isnull().sum()"
   ]
  },
  {
   "cell_type": "code",
   "execution_count": 8,
   "id": "226d1a7e",
   "metadata": {},
   "outputs": [
    {
     "data": {
      "text/plain": [
       "Area           float64\n",
       "BHK              int64\n",
       "Bathroom       float64\n",
       "Furnishing      object\n",
       "Locality        object\n",
       "Parking        float64\n",
       "Price            int64\n",
       "Status          object\n",
       "Transaction     object\n",
       "Type            object\n",
       "Per_Sqft       float64\n",
       "dtype: object"
      ]
     },
     "execution_count": 8,
     "metadata": {},
     "output_type": "execute_result"
    }
   ],
   "source": [
    "df.dtypes"
   ]
  },
  {
   "cell_type": "code",
   "execution_count": 9,
   "id": "8234efb1",
   "metadata": {},
   "outputs": [
    {
     "data": {
      "text/html": [
       "<div>\n",
       "<style scoped>\n",
       "    .dataframe tbody tr th:only-of-type {\n",
       "        vertical-align: middle;\n",
       "    }\n",
       "\n",
       "    .dataframe tbody tr th {\n",
       "        vertical-align: top;\n",
       "    }\n",
       "\n",
       "    .dataframe thead th {\n",
       "        text-align: right;\n",
       "    }\n",
       "</style>\n",
       "<table border=\"1\" class=\"dataframe\">\n",
       "  <thead>\n",
       "    <tr style=\"text-align: right;\">\n",
       "      <th></th>\n",
       "      <th>Parking</th>\n",
       "      <th>Bathroom</th>\n",
       "    </tr>\n",
       "  </thead>\n",
       "  <tbody>\n",
       "    <tr>\n",
       "      <th>0</th>\n",
       "      <td>1</td>\n",
       "      <td>2</td>\n",
       "    </tr>\n",
       "    <tr>\n",
       "      <th>1</th>\n",
       "      <td>1</td>\n",
       "      <td>2</td>\n",
       "    </tr>\n",
       "    <tr>\n",
       "      <th>2</th>\n",
       "      <td>1</td>\n",
       "      <td>2</td>\n",
       "    </tr>\n",
       "    <tr>\n",
       "      <th>3</th>\n",
       "      <td>1</td>\n",
       "      <td>2</td>\n",
       "    </tr>\n",
       "    <tr>\n",
       "      <th>4</th>\n",
       "      <td>1</td>\n",
       "      <td>2</td>\n",
       "    </tr>\n",
       "    <tr>\n",
       "      <th>...</th>\n",
       "      <td>...</td>\n",
       "      <td>...</td>\n",
       "    </tr>\n",
       "    <tr>\n",
       "      <th>1254</th>\n",
       "      <td>3</td>\n",
       "      <td>5</td>\n",
       "    </tr>\n",
       "    <tr>\n",
       "      <th>1255</th>\n",
       "      <td>3</td>\n",
       "      <td>2</td>\n",
       "    </tr>\n",
       "    <tr>\n",
       "      <th>1256</th>\n",
       "      <td>3</td>\n",
       "      <td>3</td>\n",
       "    </tr>\n",
       "    <tr>\n",
       "      <th>1257</th>\n",
       "      <td>1</td>\n",
       "      <td>2</td>\n",
       "    </tr>\n",
       "    <tr>\n",
       "      <th>1258</th>\n",
       "      <td>1</td>\n",
       "      <td>3</td>\n",
       "    </tr>\n",
       "  </tbody>\n",
       "</table>\n",
       "<p>1259 rows × 2 columns</p>\n",
       "</div>"
      ],
      "text/plain": [
       "      Parking  Bathroom\n",
       "0           1         2\n",
       "1           1         2\n",
       "2           1         2\n",
       "3           1         2\n",
       "4           1         2\n",
       "...       ...       ...\n",
       "1254        3         5\n",
       "1255        3         2\n",
       "1256        3         3\n",
       "1257        1         2\n",
       "1258        1         3\n",
       "\n",
       "[1259 rows x 2 columns]"
      ]
     },
     "execution_count": 9,
     "metadata": {},
     "output_type": "execute_result"
    }
   ],
   "source": [
    "df[['Parking','Bathroom']].astype('int64')"
   ]
  },
  {
   "cell_type": "code",
   "execution_count": 10,
   "id": "5754e30e",
   "metadata": {},
   "outputs": [
    {
     "data": {
      "text/plain": [
       "Area           315\n",
       "BHK              8\n",
       "Bathroom         7\n",
       "Furnishing       3\n",
       "Locality       365\n",
       "Parking          9\n",
       "Price          284\n",
       "Status           2\n",
       "Transaction      2\n",
       "Type             2\n",
       "Per_Sqft       433\n",
       "dtype: int64"
      ]
     },
     "execution_count": 10,
     "metadata": {},
     "output_type": "execute_result"
    }
   ],
   "source": [
    "df.nunique()"
   ]
  },
  {
   "cell_type": "code",
   "execution_count": 11,
   "id": "005629c1",
   "metadata": {},
   "outputs": [
    {
     "name": "stdout",
     "output_type": "stream",
     "text": [
      "900.0      67\n",
      "1500.0     50\n",
      "1800.0     48\n",
      "1000.0     42\n",
      "1600.0     38\n",
      "           ..\n",
      "150.0       1\n",
      "3250.0      1\n",
      "4000.0      1\n",
      "5500.0      1\n",
      "11050.0     1\n",
      "Name: Area, Length: 315, dtype: int64 \n",
      " 3     541\n",
      "2     367\n",
      "4     220\n",
      "1      96\n",
      "5      27\n",
      "6       6\n",
      "7       1\n",
      "10      1\n",
      "Name: BHK, dtype: int64 \n",
      " 2.0    553\n",
      "3.0    355\n",
      "1.0    146\n",
      "4.0    138\n",
      "5.0     57\n",
      "6.0      7\n",
      "7.0      3\n",
      "Name: Bathroom, dtype: int64 \n",
      " 1.0      829\n",
      "2.0      341\n",
      "3.0       54\n",
      "4.0       16\n",
      "5.0        7\n",
      "39.0       7\n",
      "114.0      3\n",
      "9.0        1\n",
      "10.0       1\n",
      "Name: Parking, dtype: int64 \n",
      " Semi-Furnished    713\n",
      "Unfurnished       363\n",
      "Furnished         183\n",
      "Name: Furnishing, dtype: int64 \n",
      " Ready_to_move    1184\n",
      "Almost_ready       75\n",
      "Name: Status, dtype: int64 \n",
      " Resale          781\n",
      "New_Property    478\n",
      "Name: Transaction, dtype: int64 \n",
      " Builder_Floor    666\n",
      "Apartment        593\n",
      "Name: Type, dtype: int64 \n",
      " 12500.000000    37\n",
      "3524.000000     28\n",
      "6667.000000     27\n",
      "14818.000000    24\n",
      "6154.000000     18\n",
      "                ..\n",
      "11826.086957     1\n",
      "11391.304348     1\n",
      "9066.666667      1\n",
      "6701.030928      1\n",
      "16333.000000     1\n",
      "Name: Per_Sqft, Length: 433, dtype: int64\n"
     ]
    }
   ],
   "source": [
    "print(df['Area'].value_counts(),'\\n', df['BHK'].value_counts(),'\\n', df['Bathroom'].value_counts(),'\\n', df['Parking'].value_counts(),'\\n', df['Furnishing'].value_counts(),'\\n', df['Status'].value_counts(),'\\n', df['Transaction'].value_counts(),'\\n', df['Type'].value_counts(),'\\n', df['Per_Sqft'].value_counts())"
   ]
  },
  {
   "cell_type": "code",
   "execution_count": 12,
   "id": "7ea35186",
   "metadata": {},
   "outputs": [],
   "source": [
    "# Adding new area column in Sq Yards for better understanding of area\n",
    "df['Area_Yards'] = df['Area']/9"
   ]
  },
  {
   "cell_type": "code",
   "execution_count": 13,
   "id": "7029e7de",
   "metadata": {},
   "outputs": [
    {
     "data": {
      "text/plain": [
       "array(['Rohini Sector 25', 'J R Designers Floors, Rohini Sector 24',\n",
       "       'Citizen Apartment, Rohini Sector 13', 'Rohini Sector 24',\n",
       "       'Rohini Sector 24 carpet area 650 sqft status Ready to Move floor 4 out of 4 floors transaction New Property furnishing Semi-Furnished facing East overlooking Garden/Park, Main Road car parking 1 Open bathroom 2 balcony 1 ownership Freehold Newly Constructed Property Newly Constructed Property East Facing Property 2BHK Newly build property for Sale. A House is waiting for a Friendly Family to make it a lovely home.So please come and make his house feel alive once again. read more Contact Agent View Phone No. Share Feedback Garima properties Certified Agent Trusted by Users Genuine Listings Market Knowledge',\n",
       "       'Delhi Homes, Rohini Sector 24', 'Rohini Sector 21',\n",
       "       'Rohini Sector 22', 'Rohini Sector 20',\n",
       "       'Rohini Sector 8 How Auctions work? The borrower has the physical possession of the Property. However the lender (Bank) can legally sell the Property. super area 32 sqm status Ready to Move floor 1 transaction Resale furnishing Semi-Furnished Contact Now Enquire Now Auction By',\n",
       "       'Rohini Sector 25 carpet area 660 sqft status Ready to Move floor 2 out of 4 floors transaction New Property furnishing Semi-Furnished facing North overlooking Garden/Park, Main Road car parking 1 Open bathroom 2 balcony 1 ownership Freehold Newly Constructed Property Newly Constructed Property Near by Ryan international school 2BHK Located on the Ground Floor of a four story building with open parking the flat measure 720 Sq Ft the property is located in a green and plush sector with common parks opposite every lane and bus and auto stand nearby. its situated 1.5 km from the metro station and walkable distance from shopping distance from shopping complex. read more Contact Agent View Phone No. Share Feedback Know your Certified Agent CRISIL Rating No of Employees 9 Kulwant & Company Certified Agent Trusted by Users Genuine Listings 5500+ Buyers Served',\n",
       "       'Rohini Sector 16', 'Rohini Sector 14',\n",
       "       'Mayur Apartment, Rohini Sector 9', 'Vijay Vihar, Rohini',\n",
       "       'Rohini Sector 18 carpet area 40 sqm status Ready to Move floor 2 out of 4 floors transaction Resale furnishing Furnished facing East overlooking Main Road car parking 2 Open bathroom 1 balcony 1 ownership Freehold East Facing Property It an LIG three side corner flat in second floor, having full scope of expansion. interior decorated with 2 textured wall , kajaria tiles , fully modular kitchen, branded bathroom and toilet fittings, LED panel, ac in one bedroom, false ceiling in entire flat.south facing unobstructed view balcony. It was all renovated only 2.5 yrs back so every thing is in brand new condition. read more Contact Owner View Phone No. Share Feedback Owner Pramod',\n",
       "       'Prashant Vihar, Rohini', 'Rohini Sector 5',\n",
       "       'Sanskriti Apartment, Rohini Sector 28', 'Rohini Sector 19',\n",
       "       'Lajpat Nagar 2', 'Lajpat Nagar 1', 'Lajpat Nagar',\n",
       "       'Vikram Vihar, Lajpat Nagar', 'Lajpat Nagar 4', 'Lajpat Nagar 3',\n",
       "       'Dayanand Colony, Lajpat Nagar How Auctions work? The borrower has the physical possession of the Property. However the lender (Bank) can legally sell the Property. super area 810 sqft status Ready to Move floor 1 out of 5 floors transaction Resale balcony 1 Contact Now Enquire Now Auction By Bank',\n",
       "       'Amar Colony, Lajpat Nagar',\n",
       "       'DDA Flats Sector 14, Dwarka Sector 14',\n",
       "       'Siddhartha Heights, Dwarka Sector 24',\n",
       "       'MTNL Employees House Welfare Society, Dwarka Sector 24',\n",
       "       'Delhi Homes Yojana, Dwarka Sector 24',\n",
       "       'The Elite Spire, Dwarka Sector 21',\n",
       "       'Kunj Vihar Apartment, Dwarka Sector 12',\n",
       "       'Ashirwad Apartments, Dwarka Sector 12',\n",
       "       'Sunny Valley Apartments, Dwarka',\n",
       "       'Shri Agrasen Apartment, Dwarka Sector 7',\n",
       "       'Chopra Apartment, Dwarka Sector 23',\n",
       "       'Mohinder Apartments, Dwarka Sector 12',\n",
       "       'Chander Lok Apartment, Dwarka Sector 19',\n",
       "       'Neelachal, Dwarka Sector 5', 'Dwarka',\n",
       "       'MeeraBai Apartment, Dwarka Sector 5',\n",
       "       'Crescent Apartments, Dwarka Sector 18',\n",
       "       'Ashoka Enclave Apartment, Dwarka Sector 11',\n",
       "       'Nav Kairali Apartment, Dwarka Sector 3',\n",
       "       'Ashirwad Apartments, Dwarka',\n",
       "       'Indraprastha Apartment, Dwarka Sector 12',\n",
       "       'Mohinder Apartments, Dwarka',\n",
       "       'Ashoka Apartments, Dwarka Sector 12',\n",
       "       'Karuna Vihar Apartment, Dwarka', 'LNT Apartments, Dwarka',\n",
       "       'Dwarka Sector 4',\n",
       "       'Dwarka Sector 3 carpet area 400 sqft status Ready to Move floor 1 out of 4 floors transaction New Property furnishing Semi-Furnished facing West overlooking Main Road bathroom 1 balcony 1 ownership Freehold Newly Constructed Property 1BHK freehold property , reserved parking, ample space for visitor parking, bathrooms with modern facilities, complete light in all room, wooden wardrobes in bedrooms, separate electric & water meter connection, separate water tank at roof, electronic door lock system with intercom facility, wall to wall POP work, fall ceiling work in all rooms, royal paint work in all rooms, 24X7 running water, branded electric fittings, modular kitchen with electronic chimney, marble vitrified tile flooring, near to metro station, well connected to main road ect. 80 to 90 home loan available. Ready to move read more Contact Agent View Phone No. Share Feedback Agent S.B. Associates 4000+ Buyers Served',\n",
       "       'Dwarka Sector 16B', 'Vinoba Puri, Lajpat Nagar', 'Budh Vihar',\n",
       "       'Budh Vihar super area 50 sqyrd status Ready to Move floor Ground out of 2 floors transaction Resale furnishing Unfurnished facing East car parking 1 Open bathroom 1 balcony 2 ownership Freehold For Sale 2 BHK 50 yrd, 2 side open Ground Floor, First and Second Floor in H Block, Gali No. 04, Near Laxmi Narain Mandir, BudhVihar read more Contact Agent View Phone No. Share Feedback Agent Sahyog Properties 1000+ Buyers Served',\n",
       "       'Budh Vihar Phase 1', 'Budh Vihar Phase 2',\n",
       "       'Saptrishi Apartment, Rohini Sector 23', 'Rohini Sector 23',\n",
       "       'Rohini ( 1 km from Shahbad Dairy, Rohini)',\n",
       "       'The Leela Sky Villas, Patel Nagar',\n",
       "       'Uttam Nagar Floors, Uttam Nagar', 'Virat Residency, Dwarka Mor',\n",
       "       'Find Homes, Greater Kailash 2', 'Adarsh Homes, Dwarka Mor',\n",
       "       'Kushwaha Homes, Uttam Nagar', 'Godrej South Estate, Okhla',\n",
       "       'APL Builder Floor, Greater Kailash 1', 'Janakpuri Block A3',\n",
       "       'Greater Kailash 2', 'Partap Homes, Bhagwati Vihar, Uttam Nagar',\n",
       "       'The Amaryllis, Karol Bagh',\n",
       "       'Diamond Heights Multi Estate, Najafgarh',\n",
       "       'Vasant Vihar Builder Floor, Vasant Vihar', 'Vasant Kunj',\n",
       "       'Greater Kailash 1', 'Khanpur, Madangir', 'Batla House, Okhla',\n",
       "       'Friends Colony West, New Friends Colony', 'New Friends Colony',\n",
       "       'Maharani Bagh, New Friends Colony',\n",
       "       'New Friends Colony carpet area 4300 sqft status Ready to Move floor 2 out of 3 floors transaction Resale furnishing Unfurnished facing North - East overlooking Garden/Park, Main Road car parking 2 Covered, 2 Open bathroom 4 balcony 3 ownership Freehold hurry up... dont waste time any where, It is best deal in your pocket budget.well maintained second floor with terrace garden plus 2 additional room on terrace up for sale in new friends colony.the property has 4 king sized bedroom attached bathroom with roof top shower with Jacuzzi. It has 3 big balconies with wonderful outer view. It has modular kitchen with new fittings. It has servant quarter pooja room study room store room etc. It has drawing & dining. It has 2 car parking with gated society. It has 247 hours water supply with full power backup. It is in amazing location. read more Contact Agent View Phone No. Share Feedback Crisil Silver Agent Sagar Home Developers Pvt. Ltd. 1000+ Buyers Served',\n",
       "       'Friends Colony East, New Friends Colony',\n",
       "       'Kalindi Colony, Maharani Bagh, New Friends Colony',\n",
       "       'Taimoor Enclave, New Friends Colony carpet area 2800 sqft status Ready to Move floor 2 out of 3 floors transaction Resale furnishing Semi-Furnished facing East overlooking Garden/Park society Taimoor Enclave car parking 2 Covered, 1 Open bathroom 4 balcony 2 ownership Freehold Two floor of the house is available for sale SECOND AND THIRD FLOOR EXTRA made, provision for LIFT can be provided by the OWNER .DDA FLATS of TAIMOOR ENCLAVE, NEAR GURUDWARA, NEW FRIENDS COLONY, SOUTH DELHI , HOUSE IS ON THE SECOND FLOOR have 3 bed room and 2 wash room and and same on the Third Floor, URGENT SALE, BROKER EXCUSE. read more Contact Agent View Phone No. Share Feedback Agent Delhi Homes 100+ Buyers Served',\n",
       "       'New Friends Colony Floors, New Friends Colony',\n",
       "       'Kailash Colony, Greater Kailash', 'Ram Nagar, Shahdara',\n",
       "       'Jyoti Nagar West, Shahdara',\n",
       "       'Hans Apartments, Vishwas Nagar, Shahdara',\n",
       "       'Naveen Shahdara, Shahdara', 'Balbir Nagar, Shahdara',\n",
       "       'Rohitash Nagar East, Shahdara', 'Shahdara',\n",
       "       'Vishwas Nagar, Shahdara',\n",
       "       'DDA RPS Flats, Mansarowar Park, Shahdara',\n",
       "       'Yamuna Vihar, Shahdara', 'Rohtash Nagar, Shahdara',\n",
       "       'Ram Nagar Extension, Shahdara', 'Maujpur, Shahdara',\n",
       "       'Mansarowar Park, Shahdara', 'Gorakh Park West, Shahdara',\n",
       "       'Shivnam Apartment, Shahdara', 'Jyoti Colony, Shahdara',\n",
       "       'Ahinsha Vatika, Ram Nagar, Shahdara',\n",
       "       'mind. The space is airy, is well located and can be easily customized as per the needs. Prime facilities are easily accessible from this place with Government Girls Senior Secondary School No 2 (0 km ). Other key neighbourhood are B Block Market (0 km ). read more Contact Owner View Phone No. Share Feedback Owner vinod kumar',\n",
       "       'Laxmi Nagar', 'Guru Angad Nagar West, Laxmi Nagar',\n",
       "       'Lalita Park, Laxmi Nagar', 'Krishan Kunj, Laxmi Nagar',\n",
       "       'Laxmi Nagar super area 450 sqft status Ready to Move floor 3 out of 4 floors transaction New Property furnishing Semi-Furnished facing East overlooking Main Road bathroom 2 balcony 1 ownership Freehold Newly Constructed Property East Facing Property This Builder Floor Apartment at 3rd faces East & overlooks Main Road offering a beautiful view from the house. with airy interiors. The type of ownership is Freehold. The Builder Floor Apartment is newly constructed. Bank loans available from LIC Housing Finance, Kotak Mahindra Bank, Indiabulls. Flooring of type Marble covers maximum part of the house. The location has easy access to, Dena Bank (0 km ), Delhi Convent School (0 km ), DDA Market (0 km ) and Nirman Vihar Metro Station (2 km ). read more Contact Owner View Phone No. Share Feedback Owner Sonia',\n",
       "       \"Laxmi Nagar carpet area 1000 sqft status Ready to Move floor 1 out of 4 floors transaction Resale furnishing Furnished bathroom 3 balcony 1 It's a 1st floor Builder Floor Apartment in a building of total 4 floors. The age of construction for this Builder Floor Apartment is between 10 to 15 years. The location has easy access to, Dena Bank (0 km ), Delhi Convent School (0 km ), DDA Market (0 km ) and Nirman Vihar Metro Station (2 km ). read more Contact Owner View Phone No. Share Feedback Owner Vipul Jain\",\n",
       "       'Bank Enclave, Laxmi Nagar', 'Uttam Nagar', 'Dwarka Mor',\n",
       "       'Uttam Nagar West', 'SB Residency, Dwarka Mor',\n",
       "       'Kiran Garden, Uttam Nagar', 'Mohan Garden, Razapur Khurd',\n",
       "       'Mitya Homes, Dwarka Mor',\n",
       "       'Uttam Nagar carpet area 550 sqft status Ready to Move transaction New Property furnishing Semi-Furnished facing East overlooking Main Road bathroom 2 balcony 1 ownership Freehold Newly Constructed Property Newly Constructed Property East Facing Property 2bhk fully furnished flats available for sale at uttam nagar, the flat is fully loaded, one singal wall texture in all bedrooms, modular kitchen, LED pannel in drawing room, wardrobes in bedroom read more Contact Agent View Phone No. Share Feedback Pranita Developers Pvt. Ltd. Certified Agent Trusted by Users Genuine Listings 100+ Buyers Served',\n",
       "       'New Uttam Nagar, Uttam Nagar', 'Patel Nagar South, Patel Nagar',\n",
       "       'Patel Nagar West', 'Patel Nagar East, Patel Nagar',\n",
       "       'Punjabi Basti, Patel Nagar', 'Baljit Nagar, Patel Nagar',\n",
       "       'DDA Flats Vasant Kunj, Vasant Kunj Sector B',\n",
       "       'DDA Flats Vasant Kunj, Vasant Kunj carpet area 1200 sqft status Ready to Move floor 5 out of 7 floors transaction Resale furnishing Semi-Furnished facing North - West overlooking Garden/Park, Main Road society DDA Flats Vasant Kunj car parking 1 Covered, 1 Open bathroom 2 balcony 2 ownership Freehold A southEAST facing 3 bhk resale flat is available in the promising locality of sectorE vasant kunj vasant kunj, delhi south. It is a ready to move in spacious flat and is located on the 5th floor. Every single detail of the flat is carefully designed. This property offers quality specifications such as lifts, park, water storage and securityfire alar. It is a gated society flat. It provides a spectacular view of the main road and parkgarden. The apartment is priced at rs. 2 cr. It is a freehold property, with a super builtUp area of 1600 sq. Ft. The property price is negotiable. read more Contact Agent Enquire Now Share Feedback Crisil Silver Agent Link Properties Pvt. Ltd. 5000+ Buyers Served',\n",
       "       'DDA Flats Vasant Kunj, Vasant Kunj',\n",
       "       'DDA Flats Pocket 1, Vasant Kunj Sector B',\n",
       "       'Saraswati Narmada Ganga Yamuna Apartment, Vasant Kunj Sector D',\n",
       "       'DDA Flats Sector E Pocket 1, Vasant Kunj',\n",
       "       'DDA Flats Vasant Kunj, Vasant Kunj Sector D',\n",
       "       'Vasant Kunj Sector A', 'E2 Vasant Kunj, Vasant Kunj',\n",
       "       'Ganga Apartment Sector D Pocket 6, Vasant Kunj',\n",
       "       'Vasant Kunj Sector C', 'Vasant Kunj Sector D',\n",
       "       'DDA Flats Vasant Kunj, Vasant Kunj Sector C',\n",
       "       'Kishangarh, Vasant Kunj', 'DDA Pocket 1, Vasant Kunj Sector D',\n",
       "       'Vasant Kunj Sector B', 'Gandhi Nagar, Shahdara',\n",
       "       'DDA Flats Mansarovar Park, Seelampur, Shahdara',\n",
       "       'Seelampur, Shahdara', 'Shanti Mohalla, Shahdara',\n",
       "       'Rajgarh Colony, Shahdara', 'Kanti Nagar East, Shahdara',\n",
       "       'Raghubarpura, Shahdara', 'Sukhdev Vihar, Okhla', 'Geeta Colony',\n",
       "       'Krishna Nagar Block A', 'Taj Enclave, Khairatabad',\n",
       "       'Shastri Park, Shahdara', 'Sitaram Bazar, Chandni Chowk',\n",
       "       'Shahdara How Auctions work? The borrower has the physical possession of the Property. However the lender (Bank) can legally sell the Property. super area 852 sqft status Ready to Move transaction Resale ownership Freehold bathroom 2 Contact Now Enquire Now Auction By',\n",
       "       'Saket', 'Anupam Enclave, Saket', 'RWA Flats, Saket',\n",
       "       'Metrotech Builder Floors, Saket',\n",
       "       'Saket Court Residential Complex, Saket',\n",
       "       'Press Enclave Society, Saket',\n",
       "       'Project Paryavaran Complex, Saket', 'Safdarjung Enclave',\n",
       "       'Arjun Nagar, Safdarjung Enclave',\n",
       "       \"Safdarjung Enclave carpet area 1100 sqft status Ready to Move floor Ground out of 4 floors transaction Resale furnishing Unfurnished facing North - East overlooking Garden/Park, Main Road car parking 1 Covered, 1 Open bathroom 3 balcony 3 ownership Freehold if you are searching for your dream house, congratulation. you're not so far from your destiny. we got unbeatable ground floor in b-block safdarjung enclave for sale. it is in 150 yds. It has 3 large king sized bedroom attached bathroom with Jacuzzi and roof top shower with all other fittings. it has modular kitchen with all needed facility. it has 3 big balcony with amazing out side view. it has 1 servant quarter also. it has 1 reserved car parking with gated society. It has 24*7 water supply with full power backup. for more information contact us at once because it can be your dream house. read more Contact Agent View Phone No. Share Feedback Crisil Silver Agent Sagar Home Developers Pvt. Ltd. 1000+ Buyers Served\",\n",
       "       'Krishna Nagar-Safdarjung Enclave',\n",
       "       'Safdarjung Enclave carpet area 3250 sqft status Ready to Move floor 1 out of 4 floors transaction Resale furnishing Semi-Furnished facing North - East overlooking Garden/Park, Main Road car parking 1 Covered bathroom 4 balcony 3 ownership Freehold Near Buy Green park Metro station. The location of the property is Awesome and Peaceful. The construction is very Highend and Very tasteful Done-up. The Same property is location on the FF. 4 Side corner read more Contact Agent Enquire Now Share Feedback Crisil Silver Agent Findahouse Real Estate Consultants LLP 2000+ Buyers Served',\n",
       "       'Safdarjung Enclave carpet area 290 sqyrd status Ready to Move floor 2 out of 3 floors transaction Resale furnishing Semi-Furnished facing West overlooking Main Road car parking 2 Open bathroom 4 balcony 3 ownership Freehold Opposite Deer Park.The property comes with independent Terrace. The area is centrally located and close to ring road which allows easy acess to all other areas.Renowned Delhi Lawn Tennis Association is within 10 minutes walking distance.Green park market is walkable distance. read more Contact Owner View Phone No. Share Feedback Owner Hemant pajankar',\n",
       "       'Safdarjung Enclave carpet area 1450 sqft status Ready to Move floor 3 out of 4 floors transaction Resale furnishing Semi-Furnished facing North - East overlooking Garden/Park, Main Road car parking 1 Covered, 1 Open bathroom 3 balcony 2 ownership Freehold Park facing builder floor apartment available for sale in safderjung enclave, 3 bedroom with attached bathroom, drawing dinning, modular kitchen. the property is on the top floor of a four storey building with terrace right, servant quarter, 1 car parking in stilt. read more Contact Agent View Phone No. Share Feedback Agent Delhi Homes Realty 1000+ Buyers Served',\n",
       "       'Safdarjung Enclave super area 2200 sqft status Ready to Move floor 2 out of 4 floors transaction New Property furnishing Semi-Furnished facing South overlooking Main Road car parking 3 Covered, 2 Open bathroom 4 balcony 3 ownership Freehold Newly Constructed Property Wide Road 450 Yards 2nd floor brand new 4 bhk attached bathrooms with full lighted and ventilated house.Most Valuable DealSEE TO BELIEVE read more Contact Agent View Phone No. Share Feedback Crisil Bronze Agent Panchsheel Homes 500+ Buyers Served',\n",
       "       'Reserve Bank Enclave, Paschim Vihar', 'Paschim Vihar',\n",
       "       'Pushkar Enclave, Paschim Vihar', 'Paschim Vihar Block B2',\n",
       "       'Paschimpuri, Paschim Vihar', 'Paschim Vihar Block B4',\n",
       "       'Paschim Vihar How Auctions work? The borrower has the physical possession of the Property. However the lender (Bank) can legally sell the Property. carpet area 780 sqft status Ready to Move floor Ground out of 3 floors transaction Resale furnishing Unfurnished facing West bathroom 2 balcony 1 ownership Freehold Contact Now Enquire Now Auction By Bank',\n",
       "       'DDA Lig Flats, Paschim Vihar carpet area 45 sqyrd status Ready to Move floor 4 out of 4 floors transaction Resale furnishing Semi-Furnished facing East overlooking Garden/Park, Main Road society DDA Lig Flats bathroom 1 balcony 1 ownership Freehold East Facing Property Expected price for the Flat is kept at 45 Lac. This is a 1 bedroom apartment present in DDA Lig Flats, Paschim Vihar. It measures an area of 45 Sq-m. It is on 4 floor out of 4 floors in the tower and is also well ventilated. The Flat has 1 washroom and also has 1 spacious balcony. read more Contact Owner View Phone No. Share Feedback Owner Anil',\n",
       "       'Archana Apartment, Paschim Vihar',\n",
       "       'Guru Harikishan Nagar, Paschim Vihar',\n",
       "       'Mianwali Nagar, Paschim Vihar',\n",
       "       'Navbharat Apartment, Paschim Vihar Block B1',\n",
       "       'Paschim Vihar Block A2', 'LIC Colony, Paschim Vihar',\n",
       "       'DDA Lig Flats, Paschim Vihar',\n",
       "       'Paschim Vihar carpet area 850 sqft status Ready to Move floor 2 out of 4 floors transaction Resale furnishing Unfurnished facing North overlooking Garden/Park bathroom 3 balcony 1 ownership Freehold If you want to live a contended, pollution-free and peaceful life with your family and children, here is the once in a lifetime opportunity awaiting your attention!! Presenting a 3BHK ready to move flat up for sale in Paschim Vihar, which is becoming a dream residential area for its ability to provide a slice of authentic New Delhi city life. Property SpecificationsWell-knitted and planned on the super area of 900 sq ft is this 2bhk flat where the owner enjoys the complete rights of the freehold ownership. In a low-rise building of four-floors, this impressive infrastructure is positioned on the second floor, hence the residents can experience the greatest possible cross ventilation and natural sunlight.Though the age of construction is between 15-20 years, this north-facing flat is perfectly maintained and features 3 spacious bedrooms, 2 bathrooms, 2 airy balconies, a dining room, a living room, and a kitchen. All the bedrooms are adorned with decorative wardrobes offered with enough space for storage of clothes and other valuables.The attached toilet is designed in Indian fashion which is mounted-up with a geyser where you can enjoy a hot water bath, while the bathroom available for common use fashioned in the western genre.Further, an eye-catching view of the lush green garden is visible from the two well-aligned balconies where you can enjoy a hot cup of tea, where one balcony is connected to the bedroom, while the other balcony opens to the lobby. Bedecked with a granite countertop, a piped gas connection, and a chimney, the contemporarily designed modular kitchen is also provided with a wash area and also sufficient space for fridge.The entire flat is polished up with the good quality tiles which are easy to install and can be quite pleasant and comfortable underfoot.FacilitiesKeeping in mind the convenience of the residents, some of the basic facilities such as an unrestricted supply of water, and power backup with invertor. Additionally, one open parking space for 1 vehicle read more Contact Owner Share Feedback Owner Yogeet',\n",
       "       'Shubh Niketan, Paschim Vihar',\n",
       "       'Ashoka Apartment, Paschim Vihar Block A2',\n",
       "       'Sunder Apartments, Sunder Vihar, Paschim Vihar',\n",
       "       'Rajasthan Apartment, Aashirwaad Chowk, Dwarka',\n",
       "       'Gold Croft Apartment, Aashirwaad Chowk, Dwarka',\n",
       "       'Chanakya Apartments, Aashirwaad Chowk, Dwarka',\n",
       "       'Bank Apartments, Aashirwaad Chowk, Dwarka carpet area 1550 sqft status Ready to Move floor 7 out of 7 floors transaction Resale furnishing Semi-Furnished facing North - East overlooking Garden/Park, Main Road society Bank Apartments car parking 1 Covered, 1 Open bathroom 2 balcony 3 ownership Freehold A spacious 3 Bedroom flat is available for sale in Dwarka , New Delhi.it is cornor building plenty of sunlight and airy. It is located on the 2 Floor. It has a covered area of 1500 Sq-ft. The flat has vitrified tiles & Mosiac flooring. The flat has 24 Hours Available water supply and No/Rare Powercut.. The property is fantastically located and is much sought-after. The property is available at a very competitive Price. read more Contact Agent View Phone No. Share Feedback Sikka Realtors Has Maximum Property Options Is the Top Agent of the Locality Is Trusted by All Users CRISIL Rating No of employees 12 Sikka Realtors Certified Agent Locality Superstar Aashirwaad Chowk, Dwarka 2500+ Buyers Served',\n",
       "       'Mohinder Apartments, Aashirwaad Chowk, Dwarka',\n",
       "       'Bank Apartments, Aashirwaad Chowk, Dwarka',\n",
       "       'Aashirwaad Chowk, Dwarka',\n",
       "       'Saheta Apartment, Aashirwaad Chowk, Dwarka',\n",
       "       'Pushpanjali Apartments, Aashirwaad Chowk, Dwarka',\n",
       "       'Green Heavens Apartment, Aashirwaad Chowk, Dwarka',\n",
       "       'Hum Sub Apartment, Aashirwaad Chowk, Dwarka',\n",
       "       'Defence Officers Apartment, Aashirwaad Chowk, Dwarka',\n",
       "       'Sanchar Vihar Apartment, Aashirwaad Chowk, Dwarka',\n",
       "       'Sarve Satyam Apartment, Aashirwaad Chowk, Dwarka',\n",
       "       'Palm Green Apartment, Aashirwaad Chowk, Dwarka',\n",
       "       'Neelachal, Aashirwaad Chowk, Dwarka',\n",
       "       'Kailash Apartments, Aashirwaad Chowk, Dwarka',\n",
       "       'New Jyoti Apartments, Aashirwaad Chowk, Dwarka',\n",
       "       'PNB Employees Apartment, Aashirwaad Chowk, Dwarka',\n",
       "       'Sadbhawna CGHS, Aashirwaad Chowk, Dwarka',\n",
       "       'Commonwealth Games Village 2010',\n",
       "       'Common Wealth Games Village, Commonwealth Games Village 2010',\n",
       "       'Project Commonwealth Games Village 2010, Akshardham Temple',\n",
       "       'Project Commonwealth Games Village 2010, Commonwealth Games Village 2010',\n",
       "       'Alaknanda', 'Shivalik Apartments, Alaknanda',\n",
       "       'Narmada Apartment, Alaknanda', 'Gangotri Enclave, Alaknanda',\n",
       "       'Aravali Apartments, Alaknanda', 'Tara Apartment, Alaknanda',\n",
       "       'Narmada Apartment, Alaknanda carpet area 1400 sqft status Ready to Move floor Ground out of 3 floors transaction Resale furnishing Furnished facing North - East overlooking Garden/Park, Main Road society Narmada Apartment car parking 1 Open bathroom 3 balcony 1 ownership Freehold Near Alaknanda Main Market & Greater Kailash Metro Station. A very good 3 bhk flat for sale in rwa Narmada Apartment, delhi south. It is a superb property and offers an excellent view. The flat is unfurnished. It promises a comfortable stay. It is feng shuivaastu compliant, which is considered to bring positive energy. The appeal of the flat has been increased with the availability of a pipedGa. Indeed, the society too has multiple facilities for enjoyment, such as club housecommunity center and fitness centregym etc. It also has rain water harvesting system. It has a super builtUp area of 180 sq. Yards. read more Contact Agent View Phone No. Share Feedback Agent Sulabh Estate',\n",
       "       'Greater Kailash 4 Nri Colony',\n",
       "       'Project Gangotri Enclave, Alaknanda',\n",
       "       'Project Gangotri Enclave, Gangotri Enclave, Alaknanda',\n",
       "       'Nilgiri Apartment, Alaknanda', 'Yamuna Apartment, Alaknanda',\n",
       "       'Tara Apartment, Alaknanda carpet area 1400 sqft status Ready to Move floor 2 out of 3 floors transaction Resale furnishing Furnished facing North - East overlooking Garden/Park society Tara Apartment car parking 1 Covered, 1 Open bathroom 3 balcony 4 ownership Freehold Near Alaknanda Main Market, Jamia Humderd University & Batra hospital. A very good 3 bhk flat for sale in rwa Tara Apartment, delhi south. It is a superb property and offers an excellent view. The flat is unfurnished. It promises a comfortable stay. It is feng shuivaastu compliant, which is considered to bring positive energy. The appeal of the flat has been increased with the availability of a pipedGa. Indeed, the society too has multiple facilities for enjoyment, such as club housecommunity center and fitness centregym etc. It also has rain water harvesting system. It has a super builtUp area of 180 sq. Yards. Other f read more Contact Agent View Phone No. Share Feedback Agent Sulabh Estate',\n",
       "       'Sarita Vihar, Mathura Road carpet area 1500 sqft status Ready to Move floor 2 out of 4 floors transaction Resale ownership Freehold overlooking Main Road car parking 1 Open bathroom 2 balcony 2 furnishing Unfurnished For sale second third duplex .spacious 3 bedrooms with 2 washrooms drawing and dining and moduler kitchen one scooter garrage. read more Contact Agent View Phone No. Share Feedback Shree Balaji Real Estate Pvt. Ltd. Has Maximum Property Options Is the Top Agent of the Locality Is Trusted by All Users 21 Property Options in Sarita Vihar, Mathura Road Shree Balaji Real Estate Pvt. Ltd. Certified Agent Locality Superstar Maximum options in Sarita Vihar, Mathura Road',\n",
       "       'DDA Flats, Sarita Vihar, Mathura Road carpet area 1600 sqft status Ready to Move floor 1 out of 4 floors transaction Resale furnishing Semi-Furnished facing North - East overlooking Main Road society DDA Flats car parking 2 Open bathroom 2 balcony 2 ownership Freehold For sale First second third duplex in sarita vihar DDA Flates . this house free hold property clear titel . this flate well maintained and spacious peacefull location . no issue light water and parking read more Contact Agent View Phone No. Share Feedback Shree Balaji Real Estate Pvt. Ltd. Has Maximum Property Options Is the Top Agent of the Locality Is Trusted by All Users 21 Property Options in Sarita Vihar, Mathura Road Shree Balaji Real Estate Pvt. Ltd. Certified Agent Locality Superstar Maximum options in Sarita Vihar, Mathura Road',\n",
       "       'DDA Flats Sarita Vihar, Sarita Vihar, Mathura Road',\n",
       "       'DDA Flats, Sarita Vihar, Mathura Road carpet area 1600 sqft status Ready to Move floor Ground out of 4 floors transaction Resale furnishing Semi-Furnished facing North - West overlooking Main Road society DDA Flats car parking 1 Open bathroom 2 balcony 2 ownership Freehold For slae Ground First Duplex in sarita vihar .posh locality in south delhi DDa coloney . This house spacious 4 bedrooms with 2 washrooms drawing and dinning . free hold proerty clear titel . near by all amnites . well develop location . read more Contact Agent View Phone No. Share Feedback Shree Balaji Real Estate Pvt. Ltd. Has Maximum Property Options Is the Top Agent of the Locality Is Trusted by All Users 21 Property Options in Sarita Vihar, Mathura Road Shree Balaji Real Estate Pvt. Ltd. Certified Agent Locality Superstar Maximum options in Sarita Vihar, Mathura Road',\n",
       "       'DDA Flats Sarita Vihar, Sarita Vihar Pocket K',\n",
       "       'Sidharth Enclave, Kilokri, Ring Road', 'Sarita Vihar Pocket B',\n",
       "       'Sarita Vihar Pocket F',\n",
       "       'DDA Flats, Sarita Vihar, Mathura Road carpet area 1150 sqft status Ready to Move floor 3 out of 3 floors transaction Resale furnishing Semi-Furnished facing North - East overlooking Main Road society DDA Flats car parking 2 Open bathroom 2 balcony 3 ownership Freehold 2 BHK flat available for sale in sarita vihar excellent interiors flooring in all bedrooms complete wood work modular kitchen beautiful bathrooms extremely well maintained ample parking space read more Contact Agent View Phone No. Share Feedback Lavish Associates Certified Agent Trusted by Users Genuine Listings Market Knowledge',\n",
       "       'New Manglapuri, Sultanpur', 'Sultanpur Extension', 'Sultanpur',\n",
       "       'Manglapuri, Sultanpur', 'Indra Park Palam, Manglapuri',\n",
       "       'Sultanpur carpet area 1100 sqft status Ready to Move floor 1 out of 4 floors transaction Resale furnishing Semi-Furnished overlooking Main Road car parking 1 Covered bathroom 2 balcony 2 ownership Freehold 2 bhk flat available in sultanpur, near metro station, loan facility available, with registry, all the modern facilities are variable, with car parking, near market, fully ventilated. read more Contact Agent View Phone No. Share Feedback Agent Delhi Dream 3500+ Buyers Served',\n",
       "       'Chhattarpur',\n",
       "       \"Chhattarpur carpet area 400 sqyrd status Ready to Move transaction New Property furnishing Semi-Furnished car parking 1 Covered, 1 Open bathroom 2 balcony 1 Newly Constructed Property It's a Ground floor Builder Floor Apartment in a building of total 4 floors. The Builder Floor Apartment is newly constructed. Prime facilities are easily accessible from this place with Oxford Angel Public School (0 km ). Other key neighbourhood are Abdul Gaffar Khan Market (0 km ). read more Contact Agent View Phone No. Share Feedback Home Hunt Has Maximum Property Options Is the Top Agent of the Locality Is Trusted by All Users 4 Property Options in Chhattarpur CRISIL Rating Operating Since 2011 No of employees 5 Home Hunt Certified Agent Locality Superstar Chhattarpur 500+ Buyers Served\",\n",
       "       'JVTS Gardens, Chhattarpur', 'Chhattarpur Enclave Phase2',\n",
       "       'DLF Chattarpur Farms, Chhattarpur', 'Aravali Tower, Chhattarpur',\n",
       "       'Mehrauli',\n",
       "       'Mehrauli carpet area 1300 sqft status Ready to Move floor 2 out of 4 floors transaction New Property furnishing Semi-Furnished facing East overlooking Garden/Park, Main Road car parking 2 Covered bathroom 3 balcony 2 ownership Freehold 3 bhk flat with attached washroom, modular kitchen, IInd floor, one car and one bike parking, lift, gated society, security, cctv camera, water backup. read more Contact Agent View Phone No. Share Feedback Agent India Bhoomi',\n",
       "       'Andheria Mor, Mehrauli',\n",
       "       'Mehrauli carpet area 1250 sqft status Ready to Move floor Ground out of 8 floors transaction Resale furnishing Semi-Furnished facing East overlooking Main Road car parking 1 Covered bathroom 2 balcony 3 ownership Freehold The flat located are very good condition and well developed area. The flat area are very spaciable. This flat balcony view is very best society very neat and clean. read more Contact Agent View Phone No. Share Feedback Agent Bharti Real Estate 100+ Buyers Served',\n",
       "       'Brijwasi Colony, Mehrauli', 'Mahavir Enclave',\n",
       "       'Mahavir Enclave Part 1',\n",
       "       'Mahavir Enclave Part 1 carpet area 1000 sqft status Ready to Move floor 2 out of 4 floors transaction Resale furnishing Semi-Furnished facing East car parking 1 Covered bathroom 2 balcony 2 East Facing Property this property is for sale purpose.......................... Contact Owner View Phone No. Share Feedback Owner Twinkle Sudan',\n",
       "       'Mahavir Enclave carpet area 565 sqft status Ready to Move floor Ground out of 1 floor transaction Resale furnishing Unfurnished facing East car parking 1 Covered bathroom 2 balcony 1 ownership Freehold East Facing Property This Freehold Builder Floor Apartment is located at Ground floor in a building of total 1 floors. The age of construction for this apartment Builder Floor Apartment is Less than 5 years. High quality flooring of types Granite are available in different rooms. read more Contact Owner View Phone No. Share Feedback Owner Adesh Sah',\n",
       "       'Mahavir Enclave Part 3', 'Vijay Enclave, Mahavir Enclave',\n",
       "       'Narela Sector A1 carpet area 42 sqyrd status Ready to Move floor Ground out of 5 floors transaction Resale furnishing Unfurnished facing North - East overlooking Garden/Park, Main Road car parking 2 Open bathroom 2 balcony 2 ownership Freehold Near bawana industrial area and j.j. colony. DDA Housing property LIG FLAT very nice property for single family 200 hundreds family already living IN THIS SOCIETY and very piece full atmosphere this society 24 hour guards all facility available read more Contact Owner View Phone No. Share Feedback Owner Vivek Gupta',\n",
       "       'DDA Flats Pocket 6 Sector A10, Narela',\n",
       "       'DDA Flats Pocket 1 Sector A9, Narela',\n",
       "       'DDA Janta Flats, Tikri Khurd Sector B2, Narela', 'Narela',\n",
       "       'DDA Lig Flats, Narela', 'DDA Flats Pocket 3, Narela',\n",
       "       'DDA Pocket H, Narela', 'Narela Mandi', 'Bhorgarh, Narela',\n",
       "       'Narela Sector A9', 'Narela Sector A5', 'Malviya Nagar',\n",
       "       'Shivalik, Malviya Nagar', 'Geetanjali Enclave, Malviya Nagar',\n",
       "       'Geetanjali Enclave Project, Geetanjali Enclave, Malviya Nagar',\n",
       "       'Khirki extension, Malviya Nagar',\n",
       "       \"Malviya Nagar carpet area 100 sqyrd status Ready to Move floor 2 out of 3 floors transaction Resale furnishing Semi-Furnished facing North overlooking Garden/Park, Main Road car parking 2 Open bathroom 3 balcony 2 ownership Freehold It's a Corner three story building, located in South Delhi. Amenities like Market, Schools, Hospitals, Parks, Gyms, Study Centers, Temple are all around. Very Close to Malviya Nagar Metro and Haus Khas Metro Station. Centerlize place to live. Whether you go to Gurgaon or Noida Or to other parts of the city, commuting from here is very easy. read more Contact Owner View Phone No. Share Feedback Owner Rohit\",\n",
       "       'Dilshad Colony, Dilshad Garden',\n",
       "       'Guru Teg Bahadur Enclave, Dilshad Garden',\n",
       "       'Dilshad Garden carpet area 1500 sqft status Ready to Move floor 2 out of 4 floors transaction Resale furnishing Unfurnished bathroom 1 balcony 2 Mig dda flat located at a very prime location near to market, school, hospital, metro station etc. Contact Owner View Phone No. Share Feedback Owner R',\n",
       "       'DDA Flats Block A, Dilshad Garden', 'Dilshad Garden',\n",
       "       'DDA Pocket JK, Dilshad Garden', 'DDA Pocket E, Dilshad Garden',\n",
       "       'DDA Flats Pocket O, Dilshad Garden',\n",
       "       'DDA Pocket I, Dilshad Garden', 'Vasundhara Enclave',\n",
       "       'Samrat Apartment, Vasundhara Enclave',\n",
       "       'Mangal Apartment, Vasundhara Enclave carpet area 1600 sqft status Ready to Move floor 4 out of 7 floors transaction Resale furnishing Furnished facing South - East overlooking Garden/Park, Main Road society Mangal Apartment car parking 1 Open bathroom 3 balcony 1 ownership Freehold Fully furnished , complete marble flooring, ready to move in. Contact Owner View Phone No. Share Feedback Owner Shailendra',\n",
       "       'Prayag Apartments, Vasundhara Enclave carpet area 900 sqft status Ready to Move floor 2 out of 4 floors transaction Resale furnishing Semi-Furnished overlooking Garden/Park, Main Road society Prayag Apartments car parking 1 Open bathroom 2 balcony 2 ownership Freehold This is 2 BHK apartment , with 2 Bathroom and one parking.This is East facing Flat.Near Metro Station is Ashok Nagar read more Contact Owner View Phone No. Share Feedback Owner Sameer Kumar',\n",
       "       'Abhimanyu Apartments, Vasundhara Enclave',\n",
       "       'Fancy Apartments, Vasundhara Enclave',\n",
       "       'Shantidoot Apartment, Vasundhara Enclave',\n",
       "       'Mangal Apartment, Vasundhara Enclave',\n",
       "       'Satyam Apartment, Vasundhara Enclave',\n",
       "       'Anekant Apartment, Vasundhara Enclave',\n",
       "       'New Delhi Apartment, Vasundhara Enclave',\n",
       "       'Mahesh Apartment, Vasundhara Enclave',\n",
       "       'Pawittra Apartment, Vasundhara Enclave',\n",
       "       'Capital Apartment, Vasundhara Enclave',\n",
       "       'Hindon Apartment, Vasundhara Enclave',\n",
       "       'Gobind Apartment, Vasundhara Enclave',\n",
       "       'Abul Fazal Enclave Part 1, Okhla',\n",
       "       'Godrej South Estate, Okhla Phase 1',\n",
       "       'Abul Fazal Enclave Part-II, Okhla', 'Jamia Nagar, Okhla',\n",
       "       'Zakir Nagar, New Friends Colony',\n",
       "       'Batla House Project, Batla House, Okhla', 'Dev Nagar, Karol Bagh',\n",
       "       'Beadon Pura, Karol Bagh How Auctions work? The borrower has the physical possession of the Property. However the lender (Bank) can legally sell the Property. carpet area 148 sqyrd status Ready to Move floor 3 out of 3 floors transaction Resale furnishing Semi-Furnished bathroom 2 balcony 3 ownership Freehold Contact Now Enquire Now Auction By Bank',\n",
       "       'DDA Mig Flat, Prasad Nagar, Karol Bagh', 'Karol Bagh',\n",
       "       'Prasad Nagar, Karol Bagh',\n",
       "       'DDA MIG Flats Prasad Nagar Phase 2, Prasad Nagar, Karol Bagh',\n",
       "       'Karol Bagh carpet area 1600 sqft status Ready to Move floor 3 out of 3 floors transaction New Property furnishing Semi-Furnished facing East overlooking Garden/Park, Main Road car parking 1 Covered, 1 Open bathroom 3 balcony 2 ownership Freehold Near to Karol Bagh Metro station...................................... Its a very peaceful location ....................................................................................................................... read more Contact Agent View Phone No. Share Feedback Agent S R B Properties',\n",
       "       'DLF Capital Greens, Moti Nagar, Kirti Nagar ( 1 km from New Moti Nagar, Kirti Nagar)',\n",
       "       'DLF Capital Greens, New Moti Nagar, Kirti Nagar',\n",
       "       'New Moti Nagar, Kirti Nagar', 'Sheikh Sarai Phase 1',\n",
       "       'Sheikh Sarai', 'Sheikh Sarai Phase 2',\n",
       "       'Savitri Nagar Village, Sheikh Sarai',\n",
       "       'Panchsheel Vihar, Sheikh Sarai',\n",
       "       'Apna Apartments, Savitri Nagar Village, Sheikh Sarai',\n",
       "       'Punjabi Bagh Enclave, Punjabi Bagh West', 'Punjabi Bagh',\n",
       "       'Punjabi Bagh West',\n",
       "       'Punjabi Bagh Enclave, Shivaji Park, Punjabi Bagh',\n",
       "       'Punjabi Bagh Extension, Punjabi Bagh',\n",
       "       'DLF Capitals Phase III, Shivaji Park, Punjabi Bagh',\n",
       "       'Punjabi Bagh Enclave, Punjabi Bagh',\n",
       "       'Punjabi Bagh Enclave, Madipur, Punjabi Bagh',\n",
       "       'Bhagwan Das Nagar, Punjabi Bagh', 'Punjabi Bagh East',\n",
       "       'Pal Mohan Apartments, Punjabi Bagh',\n",
       "       'Govindpuri Extension, Kalkaji', 'Kalkaji',\n",
       "       'DDA LIG Flat, Kalkaji', 'Giri Nagar, KalkaJi',\n",
       "       'Rishi Apartment, Kalkaji', 'Deshbandhu Apartments, Kalkaji',\n",
       "       'Dda Janta Flats, Kalkaji',\n",
       "       'Kalkaji super area 800 sqft status Ready to Move floor 3 out of 4 floors transaction Resale furnishing Semi-Furnished facing North - West overlooking Garden/Park, Main Road car parking 1 Open bathroom 2 balcony 2 ownership Freehold 2 bhk flat for sale in kalkaji this is third floor with 2 bed room and bathrooms very peace full location and posh. The Summer Fields School is considered as among the best school of New Delhi and is located just beside to this property. Within the range of 4-5km, you will find some of the well-equipped hospitals which include AIMS Hospital and Moolchand Hospital.for more information about this flat please call me feel free. read more Contact Agent View Phone No. Share Feedback Agent Rose Estate 100+ Buyers Served',\n",
       "       'Kalkaji Extention',\n",
       "       'Kalkaji super area 1000 sqft status Ready to Move floor 2 out of 3 floors transaction Resale furnishing Semi-Furnished facing North - West overlooking Garden/Park, Main Road car parking 1 Covered, 1 Open bathroom 2 balcony 2 ownership Freehold Very beautiful 3 bedroom with attached washroom , drawing dining , modular kitchen , ac , servant room , power backup, powder room, separate underground and overhead water tanks, walking distance to market , easy access to ring road . For more details and site visit please contact cosmo properties. read more Contact Agent View Phone No. Share Feedback Agent Zee Associates',\n",
       "       'Mandakini Enclave Project, Kalkaji',\n",
       "       'Deshbandhu Apartments, Kalkaji carpet area 1300 sqft status Ready to Move floor 3 out of 4 floors transaction Resale furnishing Unfurnished facing North - East overlooking Garden/Park, Main Road society Deshbandhu Apartments car parking 1 Covered, 1 Open bathroom 2 balcony 2 ownership Freehold Third Floor with terrace 3 bhk builder floor apartment with 2 attached bathrooms located in kalkaji Deshbandu apartment . all water and electrical connections installed, very spacious drawing room , 2 balconies in front and rear each dedicated parking spot for 1 car. extra parking space available for additional cars, Immediately for sale , read more Contact Agent View Phone No. Share Feedback Agent Bhawani Realtors',\n",
       "       'Hauz Khas', 'Hauz Khas Apartment, Hauz Khas Enclave, Hauz Khas',\n",
       "       'Sarva Priya Apartment, Hauz Khas', 'Hauz Khas Enclave, Hauz Khas',\n",
       "       'Safdarjung Development Area, Hauz Khas',\n",
       "       'Mayfair garden, Hauz Khas', 'Orchid Metropolis, Hauz Khas',\n",
       "       'Sarva Priya Apartment, Hauz Khas carpet area 1700 sqft status Ready to Move floor 1 out of 7 floors transaction Resale furnishing Semi-Furnished facing North - East overlooking Garden/Park society Sarva Priya Apartment car parking 1 Covered, 1 Open bathroom 3 balcony 2 ownership Freehold desperarte sale ,its clear tile, proper cross ventilation ,proper an matter for one week ,crystle sunlight found, and air,ICIC BANK LOAN APPROVAL, good to see , have lucky chance to get such a reraly rare property read more Contact Agent View Phone No. Share Feedback Agent New Capital Properties 1000+ Buyers Served',\n",
       "       'Chittaranjan Park', 'Arya Chittaranjan Park, Chittaranjan Park',\n",
       "       'Chittaranjan Park carpet area 1200 sqft status Ready to Move floor 2 out of 4 floors transaction New Property furnishing Semi-Furnished facing North - East overlooking Garden/Park bathroom 3 balcony 2 ownership Freehold Newly Constructed Property Newly Constructed Property brand new 1st floor 3bedroom attach bathrooms stilt car parking modular kitchen air condition prime location c r park read more Contact Agent View Phone No. Share Feedback Nirmala Associates Certified Agent Trusted by Users Genuine Listings 1500+ Buyers Served',\n",
       "       'Chittaranjan Park carpet area 270 sqyrd status Ready to Move floor 2 out of 4 floors transaction Resale furnishing Furnished facing North - East overlooking Garden/Park, Main Road car parking 5 Open bathroom 4 balcony 3 ownership Freehold 3 Side Open, Fully ventilated, Close to Market, Above Bank and 24 x 7 ATM because of which good security. Elite Neighbor hood. Very good for Rental Income. Also can be used for commercial Office Purpose by Advocates. read more Contact Owner View Phone No. Share Feedback Owner Mayur Mayur Aggarwal',\n",
       "       'Nehru Enclave, Kalkaji', 'Chittaranjan Park Block A'],\n",
       "      dtype=object)"
      ]
     },
     "execution_count": 13,
     "metadata": {},
     "output_type": "execute_result"
    }
   ],
   "source": [
    "# unique localities\n",
    "df['Locality'].unique()"
   ]
  },
  {
   "cell_type": "markdown",
   "id": "9c9a2633",
   "metadata": {},
   "source": [
    "Since there are so many localities in the dataset, I have decided to take only top 10 localities and list the remaining localities as 'other' in the dataset. It will help in analysing the locality of the house in a better way."
   ]
  },
  {
   "cell_type": "code",
   "execution_count": 14,
   "id": "7ae44b61",
   "metadata": {},
   "outputs": [],
   "source": [
    "def grp_local(locality):\n",
    "    locality = locality.lower() # avoid case sensitive\n",
    "    if 'rohini' in locality:\n",
    "        return 'Rohini Sector'\n",
    "    elif 'dwarka' in locality:\n",
    "        return 'Dwarka Sector'\n",
    "    elif 'shahdara' in locality:\n",
    "        return 'Shahdara'\n",
    "    elif 'vasant' in locality:\n",
    "        return 'Vasant Kunj'\n",
    "    elif 'paschim' in locality:\n",
    "        return 'Paschim Vihar'\n",
    "    elif 'alaknanda' in locality:\n",
    "        return 'Alaknanda'\n",
    "    elif 'vasundhar' in locality:\n",
    "        return 'Vasundhara Enclave'\n",
    "    elif 'punjabi' in locality:\n",
    "        return 'Punjabi Bagh'\n",
    "    elif 'kalkaji' in locality:\n",
    "        return 'Kalkaji'\n",
    "    elif 'lajpat' in locality:\n",
    "        return 'Lajpat Nagar'\n",
    "    else:\n",
    "        return 'Other'\n",
    "\n",
    "df['Locality'] = df['Locality'].apply(grp_local)"
   ]
  },
  {
   "cell_type": "code",
   "execution_count": 15,
   "id": "76f7ea75",
   "metadata": {},
   "outputs": [
    {
     "data": {
      "text/plain": [
       "Other                 716\n",
       "Lajpat Nagar           90\n",
       "Dwarka Sector          87\n",
       "Rohini Sector          75\n",
       "Shahdara               75\n",
       "Alaknanda              58\n",
       "Vasant Kunj            35\n",
       "Kalkaji                32\n",
       "Punjabi Bagh           31\n",
       "Paschim Vihar          30\n",
       "Vasundhara Enclave     30\n",
       "Name: Locality, dtype: int64"
      ]
     },
     "execution_count": 15,
     "metadata": {},
     "output_type": "execute_result"
    }
   ],
   "source": [
    "df['Locality'].value_counts()"
   ]
  },
  {
   "cell_type": "code",
   "execution_count": 16,
   "id": "3c30d52d",
   "metadata": {},
   "outputs": [],
   "source": [
    "# Using z-scores to remove outliers\n",
    "from scipy import stats\n",
    "# z score\n",
    "z = np.abs(stats.zscore(df[df.dtypes[df.dtypes != 'object'].index]))\n",
    "# removing outliers\n",
    "df = df[(z<3).all(axis=1)]"
   ]
  },
  {
   "cell_type": "code",
   "execution_count": 17,
   "id": "d46800f3",
   "metadata": {},
   "outputs": [
    {
     "data": {
      "text/html": [
       "<div>\n",
       "<style scoped>\n",
       "    .dataframe tbody tr th:only-of-type {\n",
       "        vertical-align: middle;\n",
       "    }\n",
       "\n",
       "    .dataframe tbody tr th {\n",
       "        vertical-align: top;\n",
       "    }\n",
       "\n",
       "    .dataframe thead th {\n",
       "        text-align: right;\n",
       "    }\n",
       "</style>\n",
       "<table border=\"1\" class=\"dataframe\">\n",
       "  <thead>\n",
       "    <tr style=\"text-align: right;\">\n",
       "      <th></th>\n",
       "      <th>Area</th>\n",
       "      <th>BHK</th>\n",
       "      <th>Bathroom</th>\n",
       "      <th>Parking</th>\n",
       "      <th>Price</th>\n",
       "      <th>Per_Sqft</th>\n",
       "      <th>Area_Yards</th>\n",
       "    </tr>\n",
       "  </thead>\n",
       "  <tbody>\n",
       "    <tr>\n",
       "      <th>count</th>\n",
       "      <td>1189.000000</td>\n",
       "      <td>1189.000000</td>\n",
       "      <td>1189.000000</td>\n",
       "      <td>1189.000000</td>\n",
       "      <td>1.189000e+03</td>\n",
       "      <td>1189.000000</td>\n",
       "      <td>1189.000000</td>\n",
       "    </tr>\n",
       "    <tr>\n",
       "      <th>mean</th>\n",
       "      <td>1296.421567</td>\n",
       "      <td>2.735913</td>\n",
       "      <td>2.483600</td>\n",
       "      <td>1.410429</td>\n",
       "      <td>1.852459e+07</td>\n",
       "      <td>12629.785274</td>\n",
       "      <td>144.046841</td>\n",
       "    </tr>\n",
       "    <tr>\n",
       "      <th>std</th>\n",
       "      <td>750.284776</td>\n",
       "      <td>0.859232</td>\n",
       "      <td>0.952107</td>\n",
       "      <td>0.719913</td>\n",
       "      <td>1.772598e+07</td>\n",
       "      <td>8434.085021</td>\n",
       "      <td>83.364975</td>\n",
       "    </tr>\n",
       "    <tr>\n",
       "      <th>min</th>\n",
       "      <td>28.000000</td>\n",
       "      <td>1.000000</td>\n",
       "      <td>1.000000</td>\n",
       "      <td>1.000000</td>\n",
       "      <td>1.000000e+06</td>\n",
       "      <td>1250.000000</td>\n",
       "      <td>3.111111</td>\n",
       "    </tr>\n",
       "    <tr>\n",
       "      <th>25%</th>\n",
       "      <td>800.000000</td>\n",
       "      <td>2.000000</td>\n",
       "      <td>2.000000</td>\n",
       "      <td>1.000000</td>\n",
       "      <td>5.510000e+06</td>\n",
       "      <td>6526.000000</td>\n",
       "      <td>88.888889</td>\n",
       "    </tr>\n",
       "    <tr>\n",
       "      <th>50%</th>\n",
       "      <td>1150.000000</td>\n",
       "      <td>3.000000</td>\n",
       "      <td>2.000000</td>\n",
       "      <td>1.000000</td>\n",
       "      <td>1.350000e+07</td>\n",
       "      <td>10943.000000</td>\n",
       "      <td>127.777778</td>\n",
       "    </tr>\n",
       "    <tr>\n",
       "      <th>75%</th>\n",
       "      <td>1600.000000</td>\n",
       "      <td>3.000000</td>\n",
       "      <td>3.000000</td>\n",
       "      <td>2.000000</td>\n",
       "      <td>2.490000e+07</td>\n",
       "      <td>16584.000000</td>\n",
       "      <td>177.777778</td>\n",
       "    </tr>\n",
       "    <tr>\n",
       "      <th>max</th>\n",
       "      <td>5220.000000</td>\n",
       "      <td>5.000000</td>\n",
       "      <td>5.000000</td>\n",
       "      <td>10.000000</td>\n",
       "      <td>9.300000e+07</td>\n",
       "      <td>72000.000000</td>\n",
       "      <td>580.000000</td>\n",
       "    </tr>\n",
       "  </tbody>\n",
       "</table>\n",
       "</div>"
      ],
      "text/plain": [
       "              Area          BHK     Bathroom      Parking         Price  \\\n",
       "count  1189.000000  1189.000000  1189.000000  1189.000000  1.189000e+03   \n",
       "mean   1296.421567     2.735913     2.483600     1.410429  1.852459e+07   \n",
       "std     750.284776     0.859232     0.952107     0.719913  1.772598e+07   \n",
       "min      28.000000     1.000000     1.000000     1.000000  1.000000e+06   \n",
       "25%     800.000000     2.000000     2.000000     1.000000  5.510000e+06   \n",
       "50%    1150.000000     3.000000     2.000000     1.000000  1.350000e+07   \n",
       "75%    1600.000000     3.000000     3.000000     2.000000  2.490000e+07   \n",
       "max    5220.000000     5.000000     5.000000    10.000000  9.300000e+07   \n",
       "\n",
       "           Per_Sqft   Area_Yards  \n",
       "count   1189.000000  1189.000000  \n",
       "mean   12629.785274   144.046841  \n",
       "std     8434.085021    83.364975  \n",
       "min     1250.000000     3.111111  \n",
       "25%     6526.000000    88.888889  \n",
       "50%    10943.000000   127.777778  \n",
       "75%    16584.000000   177.777778  \n",
       "max    72000.000000   580.000000  "
      ]
     },
     "execution_count": 17,
     "metadata": {},
     "output_type": "execute_result"
    }
   ],
   "source": [
    "df.describe()"
   ]
  },
  {
   "cell_type": "code",
   "execution_count": 18,
   "id": "050a9dc6",
   "metadata": {},
   "outputs": [
    {
     "data": {
      "text/html": [
       "<div>\n",
       "<style scoped>\n",
       "    .dataframe tbody tr th:only-of-type {\n",
       "        vertical-align: middle;\n",
       "    }\n",
       "\n",
       "    .dataframe tbody tr th {\n",
       "        vertical-align: top;\n",
       "    }\n",
       "\n",
       "    .dataframe thead th {\n",
       "        text-align: right;\n",
       "    }\n",
       "</style>\n",
       "<table border=\"1\" class=\"dataframe\">\n",
       "  <thead>\n",
       "    <tr style=\"text-align: right;\">\n",
       "      <th></th>\n",
       "      <th>Area</th>\n",
       "      <th>BHK</th>\n",
       "      <th>Bathroom</th>\n",
       "      <th>Furnishing</th>\n",
       "      <th>Locality</th>\n",
       "      <th>Parking</th>\n",
       "      <th>Price</th>\n",
       "      <th>Status</th>\n",
       "      <th>Transaction</th>\n",
       "      <th>Type</th>\n",
       "      <th>Per_Sqft</th>\n",
       "      <th>Area_Yards</th>\n",
       "    </tr>\n",
       "  </thead>\n",
       "  <tbody>\n",
       "    <tr>\n",
       "      <th>0</th>\n",
       "      <td>800.0</td>\n",
       "      <td>3</td>\n",
       "      <td>2.0</td>\n",
       "      <td>Semi-Furnished</td>\n",
       "      <td>Rohini Sector</td>\n",
       "      <td>1.0</td>\n",
       "      <td>6500000</td>\n",
       "      <td>Ready_to_move</td>\n",
       "      <td>New_Property</td>\n",
       "      <td>Builder_Floor</td>\n",
       "      <td>8125.0</td>\n",
       "      <td>88.888889</td>\n",
       "    </tr>\n",
       "    <tr>\n",
       "      <th>1</th>\n",
       "      <td>750.0</td>\n",
       "      <td>2</td>\n",
       "      <td>2.0</td>\n",
       "      <td>Semi-Furnished</td>\n",
       "      <td>Rohini Sector</td>\n",
       "      <td>1.0</td>\n",
       "      <td>5000000</td>\n",
       "      <td>Ready_to_move</td>\n",
       "      <td>New_Property</td>\n",
       "      <td>Apartment</td>\n",
       "      <td>6667.0</td>\n",
       "      <td>83.333333</td>\n",
       "    </tr>\n",
       "    <tr>\n",
       "      <th>2</th>\n",
       "      <td>950.0</td>\n",
       "      <td>2</td>\n",
       "      <td>2.0</td>\n",
       "      <td>Furnished</td>\n",
       "      <td>Rohini Sector</td>\n",
       "      <td>1.0</td>\n",
       "      <td>15500000</td>\n",
       "      <td>Ready_to_move</td>\n",
       "      <td>Resale</td>\n",
       "      <td>Apartment</td>\n",
       "      <td>6667.0</td>\n",
       "      <td>105.555556</td>\n",
       "    </tr>\n",
       "    <tr>\n",
       "      <th>3</th>\n",
       "      <td>600.0</td>\n",
       "      <td>2</td>\n",
       "      <td>2.0</td>\n",
       "      <td>Semi-Furnished</td>\n",
       "      <td>Rohini Sector</td>\n",
       "      <td>1.0</td>\n",
       "      <td>4200000</td>\n",
       "      <td>Ready_to_move</td>\n",
       "      <td>Resale</td>\n",
       "      <td>Builder_Floor</td>\n",
       "      <td>6667.0</td>\n",
       "      <td>66.666667</td>\n",
       "    </tr>\n",
       "    <tr>\n",
       "      <th>4</th>\n",
       "      <td>650.0</td>\n",
       "      <td>2</td>\n",
       "      <td>2.0</td>\n",
       "      <td>Semi-Furnished</td>\n",
       "      <td>Rohini Sector</td>\n",
       "      <td>1.0</td>\n",
       "      <td>6200000</td>\n",
       "      <td>Ready_to_move</td>\n",
       "      <td>New_Property</td>\n",
       "      <td>Builder_Floor</td>\n",
       "      <td>6667.0</td>\n",
       "      <td>72.222222</td>\n",
       "    </tr>\n",
       "  </tbody>\n",
       "</table>\n",
       "</div>"
      ],
      "text/plain": [
       "    Area  BHK  Bathroom      Furnishing       Locality  Parking     Price  \\\n",
       "0  800.0    3       2.0  Semi-Furnished  Rohini Sector      1.0   6500000   \n",
       "1  750.0    2       2.0  Semi-Furnished  Rohini Sector      1.0   5000000   \n",
       "2  950.0    2       2.0       Furnished  Rohini Sector      1.0  15500000   \n",
       "3  600.0    2       2.0  Semi-Furnished  Rohini Sector      1.0   4200000   \n",
       "4  650.0    2       2.0  Semi-Furnished  Rohini Sector      1.0   6200000   \n",
       "\n",
       "          Status   Transaction           Type  Per_Sqft  Area_Yards  \n",
       "0  Ready_to_move  New_Property  Builder_Floor    8125.0   88.888889  \n",
       "1  Ready_to_move  New_Property      Apartment    6667.0   83.333333  \n",
       "2  Ready_to_move        Resale      Apartment    6667.0  105.555556  \n",
       "3  Ready_to_move        Resale  Builder_Floor    6667.0   66.666667  \n",
       "4  Ready_to_move  New_Property  Builder_Floor    6667.0   72.222222  "
      ]
     },
     "execution_count": 18,
     "metadata": {},
     "output_type": "execute_result"
    }
   ],
   "source": [
    "df.head()"
   ]
  },
  {
   "cell_type": "markdown",
   "id": "af52ee51",
   "metadata": {},
   "source": [
    "## Exploratory Data Analysis"
   ]
  },
  {
   "cell_type": "code",
   "execution_count": 19,
   "id": "7dcc7f6f",
   "metadata": {},
   "outputs": [
    {
     "data": {
      "text/plain": [
       "Text(0.5, 1.0, 'Area in Yards')"
      ]
     },
     "execution_count": 19,
     "metadata": {},
     "output_type": "execute_result"
    },
    {
     "data": {
      "image/png": "[encoded data removed]",
      "text/plain": [
       "<Figure size 432x288 with 1 Axes>"
      ]
     },
     "metadata": {
      "needs_background": "light"
     },
     "output_type": "display_data"
    }
   ],
   "source": [
    "# Area of House\n",
    "sns.histplot(x=df['Area_Yards'],kde=True,bins=50,data=df).set_title('Area in Yards')"
   ]
  },
  {
   "cell_type": "markdown",
   "id": "c8f9ae88",
   "metadata": {},
   "source": [
    "Lookking at the distribution of Area if houses in delhi most of the houses have area between 80 - 200 sq. yards. This means that most of the houses in delhi are small houses and there are few house having area near 300 sq yards. Whereas thery are very few houses having area more than 400 sq yards. This representation helps us to know about availability of space in delhi."
   ]
  },
  {
   "cell_type": "code",
   "execution_count": 20,
   "id": "c4dd7805",
   "metadata": {},
   "outputs": [
    {
     "data": {
      "text/plain": [
       "Text(0.5, 1.0, 'BHK')"
      ]
     },
     "execution_count": 20,
     "metadata": {},
     "output_type": "execute_result"
    },
    {
     "data": {
      "image/png": "[encoded data removed]",
      "text/plain": [
       "<Figure size 432x288 with 1 Axes>"
      ]
     },
     "metadata": {
      "needs_background": "light"
     },
     "output_type": "display_data"
    }
   ],
   "source": [
    "# BHK\n",
    "sns.countplot(x='BHK',data=df).set_title('BHK')"
   ]
  },
  {
   "cell_type": "markdown",
   "id": "2f2b2e9a",
   "metadata": {},
   "source": [
    "BHK - Bedroom Hall Kitchen. From this graph we can get a little idea about the design of most of houses in delhi. Most of houses are 3 BHK followed by 2, 4, 1 and 5 BHK houses. Majority of the houses have area between 80-200 sq. yards. Houses with area near 200 yards can have maximum 3 bedrooms, for houses with area near 100 can have 2 bedrooms and 1 bedroom for houses with area less than 80 sq yards. Moreover whoses having area more than 300 are less in number so the count of 4BHK and 5BHK. Thus, there is a relation between the BHK and area of house, with this relation we can get a idea about the structure of houses."
   ]
  },
  {
   "cell_type": "code",
   "execution_count": 21,
   "id": "9f1f443f",
   "metadata": {},
   "outputs": [
    {
     "data": {
      "text/plain": [
       "Text(0.5, 1.0, 'Bathroom')"
      ]
     },
     "execution_count": 21,
     "metadata": {},
     "output_type": "execute_result"
    },
    {
     "data": {
      "image/png": "[encoded data removed]",
      "text/plain": [
       "<Figure size 432x288 with 1 Axes>"
      ]
     },
     "metadata": {
      "needs_background": "light"
     },
     "output_type": "display_data"
    }
   ],
   "source": [
    "# Bathroom\n",
    "sns.countplot(x='Bathroom',data=df).set_title('Bathroom')"
   ]
  },
  {
   "cell_type": "markdown",
   "id": "74a8b8cf",
   "metadata": {},
   "source": [
    "Majority of the houses have 2 bathrooms which, is quite obvious. However there some houses having 3 or more than 3 bathrooms, which is means these houses are quite big and spacious to have 3 or more bathrooms. Smaller houses usually have 1 bathroom."
   ]
  },
  {
   "cell_type": "code",
   "execution_count": 22,
   "id": "6daf3ba5",
   "metadata": {},
   "outputs": [
    {
     "data": {
      "text/plain": [
       "Text(0.5, 1.0, 'Furnishing')"
      ]
     },
     "execution_count": 22,
     "metadata": {},
     "output_type": "execute_result"
    },
    {
     "data": {
      "image/png": "[encoded data removed]",
      "text/plain": [
       "<Figure size 432x288 with 1 Axes>"
      ]
     },
     "metadata": {
      "needs_background": "light"
     },
     "output_type": "display_data"
    }
   ],
   "source": [
    "# Furnishing\n",
    "sns.countplot(x='Furnishing',data=df).set_title('Furnishing')"
   ]
  },
  {
   "cell_type": "markdown",
   "id": "77299ceb",
   "metadata": {},
   "source": [
    "Delhi is very close captial of India, New Delhi and many people migrate from various regions of the country mostly for employment reasons to this region. As these people look for accomodations, the furnishing of the houses play a major role. People who are migrationg from huge distances cannot afford to move their furniture and other household items. Hence, they look for fully furnished houses. Similarly the people from neighbouring states might prefer semi-furnished houses, whereas Delhi locals who are moving to some other reason might prefer unfurnished houses. Hence, the furnishing of the house plays a major role in the price of the house. Hence, we have included this feature in our dataset"
   ]
  },
  {
   "cell_type": "code",
   "execution_count": 23,
   "id": "eaea0fb1",
   "metadata": {},
   "outputs": [
    {
     "data": {
      "text/plain": [
       "(array([ 0,  1,  2,  3,  4,  5,  6,  7,  8,  9, 10]),\n",
       " [Text(0, 0, 'Rohini Sector'),\n",
       "  Text(1, 0, 'Lajpat Nagar'),\n",
       "  Text(2, 0, 'Dwarka Sector'),\n",
       "  Text(3, 0, 'Other'),\n",
       "  Text(4, 0, 'Vasant Kunj'),\n",
       "  Text(5, 0, 'Shahdara'),\n",
       "  Text(6, 0, 'Paschim Vihar'),\n",
       "  Text(7, 0, 'Alaknanda'),\n",
       "  Text(8, 0, 'Vasundhara Enclave'),\n",
       "  Text(9, 0, 'Punjabi Bagh'),\n",
       "  Text(10, 0, 'Kalkaji')])"
      ]
     },
     "execution_count": 23,
     "metadata": {},
     "output_type": "execute_result"
    },
    {
     "data": {
      "image/png": "[encoded data removed]",
      "text/plain": [
       "<Figure size 432x288 with 1 Axes>"
      ]
     },
     "metadata": {
      "needs_background": "light"
     },
     "output_type": "display_data"
    }
   ],
   "source": [
    "# Locality\n",
    "sns.countplot(x='Locality',data=df).set_title('Locality')\n",
    "plt.xticks(rotation=90)"
   ]
  },
  {
   "cell_type": "markdown",
   "id": "8ccea663",
   "metadata": {},
   "source": [
    "Since there are so many localities ans address in the dataset, I have group nearly half of them in the top ten localities (count wise), and the remaining localities are grouped as 'Others'. Upon visualizing the locality on the graph, we can se that after the 'Other' category, the Dwarka Sector has highest number of houses followed by Lajpat Naagr and Rohini Sector. From this info, I assume that these localities aare good to settle in Delhi. In addition to that localities such as Shahdara and Alaknanda are have significant number of houses as well. So, these localities are also good to settle in Delhi."
   ]
  },
  {
   "cell_type": "code",
   "execution_count": 24,
   "id": "c0dd0c5c",
   "metadata": {},
   "outputs": [
    {
     "data": {
      "text/plain": [
       "Text(0.5, 1.0, 'Parking')"
      ]
     },
     "execution_count": 24,
     "metadata": {},
     "output_type": "execute_result"
    },
    {
     "data": {
      "image/png": "[encoded data removed]",
      "text/plain": [
       "<Figure size 432x288 with 1 Axes>"
      ]
     },
     "metadata": {
      "needs_background": "light"
     },
     "output_type": "display_data"
    }
   ],
   "source": [
    "# Parking\n",
    "sns.countplot(x='Parking',data=df).set_title('Parking')"
   ]
  },
  {
   "cell_type": "markdown",
   "id": "15be0282",
   "metadata": {},
   "source": [
    "Majority of the houses in Delhi has one car parking which is quite common. Few of the houses have enough space for two car parking and very few houses have more than two car parking space. We can relate this graph to the graph with house area, where majority of the houses have area between 100 -200 sq. yards. So, it is quite obvious than these house will have one car parking space. The houses with area more than 200 sq. yards will have more than one car parking space."
   ]
  },
  {
   "cell_type": "code",
   "execution_count": 25,
   "id": "c0e1d9d3",
   "metadata": {},
   "outputs": [
    {
     "data": {
      "text/plain": [
       "Text(0.5, 1.0, 'Status of the property')"
      ]
     },
     "execution_count": 25,
     "metadata": {},
     "output_type": "execute_result"
    },
    {
     "data": {
      "image/png": "[encoded data removed]",
      "text/plain": [
       "<Figure size 432x288 with 1 Axes>"
      ]
     },
     "metadata": {
      "needs_background": "light"
     },
     "output_type": "display_data"
    }
   ],
   "source": [
    "# status\n",
    "sns.countplot(x='Status',data=df).set_title('Status of the property')"
   ]
  },
  {
   "cell_type": "markdown",
   "id": "1ce60e9f",
   "metadata": {},
   "source": [
    "Most of the houses are ready to move and actively looking for buyers. Very few houses are still under construction and would be ready to move soon"
   ]
  },
  {
   "cell_type": "code",
   "execution_count": 26,
   "id": "995ccfa7",
   "metadata": {},
   "outputs": [
    {
     "data": {
      "text/plain": [
       "Text(0.5, 1.0, 'Transaction Types')"
      ]
     },
     "execution_count": 26,
     "metadata": {},
     "output_type": "execute_result"
    },
    {
     "data": {
      "image/png": "[encoded data removed]",
      "text/plain": [
       "<Figure size 432x288 with 1 Axes>"
      ]
     },
     "metadata": {
      "needs_background": "light"
     },
     "output_type": "display_data"
    }
   ],
   "source": [
    "# Transaction Types\n",
    "sns.countplot(x='Transaction',data=df).set_title('Transaction Types')"
   ]
  },
  {
   "cell_type": "markdown",
   "id": "a9e761b7",
   "metadata": {},
   "source": [
    "A huge number of houses are resale type, which means a lot of people are moving out of Delhi. This could be due to the high pollution levels or some other reason. This could be a good opportunity for people who are looking to buy a house in Delhi. Nearly 430 houses are new property houses which are built with only purpose to be commericially sold."
   ]
  },
  {
   "cell_type": "code",
   "execution_count": 27,
   "id": "f3378c87",
   "metadata": {},
   "outputs": [
    {
     "data": {
      "text/plain": [
       "Text(0.5, 1.0, 'Types of House')"
      ]
     },
     "execution_count": 27,
     "metadata": {},
     "output_type": "execute_result"
    },
    {
     "data": {
      "image/png": "[encoded data removed]",
      "text/plain": [
       "<Figure size 432x288 with 1 Axes>"
      ]
     },
     "metadata": {
      "needs_background": "light"
     },
     "output_type": "display_data"
    }
   ],
   "source": [
    "# House type\n",
    "sns.countplot(x='Type',data=df).set_title('Types of House')"
   ]
  },
  {
   "cell_type": "markdown",
   "id": "061095a8",
   "metadata": {},
   "source": [
    "Most of the houses are builder floor which means people like to live in independent houses rather than apartments, due to the privacy and space they get in independent houses."
   ]
  },
  {
   "cell_type": "markdown",
   "id": "ca6511ea",
   "metadata": {},
   "source": [
    "Till now, I have visualize the distribution of data across variables in the dataset. Now, I will be looking at the realtion between the target variable i.e Price and independent variables."
   ]
  },
  {
   "cell_type": "code",
   "execution_count": 28,
   "id": "ca0fe6e4",
   "metadata": {},
   "outputs": [
    {
     "data": {
      "text/plain": [
       "Text(0.5, 1.0, 'Area vs Price')"
      ]
     },
     "execution_count": 28,
     "metadata": {},
     "output_type": "execute_result"
    },
    {
     "data": {
      "image/png": "[encoded data removed]",
      "text/plain": [
       "<Figure size 432x288 with 1 Axes>"
      ]
     },
     "metadata": {
      "needs_background": "light"
     },
     "output_type": "display_data"
    }
   ],
   "source": [
    "# Area vs Price\n",
    "sns.scatterplot(x='Area_Yards',y='Price',data=df).set_title('Area vs Price')"
   ]
  },
  {
   "cell_type": "markdown",
   "id": "1f59cc75",
   "metadata": {},
   "source": [
    "The scatterplot graph has trend of increase in price with increase in area, which is obvious. However, there are some houses whose price is lower as compared to other with similar area, which means there are several other factors which affects price of the house."
   ]
  },
  {
   "cell_type": "code",
   "execution_count": 29,
   "id": "630c0ee6",
   "metadata": {},
   "outputs": [
    {
     "data": {
      "text/plain": [
       "Text(0.5, 1.0, 'BHK vs Price')"
      ]
     },
     "execution_count": 29,
     "metadata": {},
     "output_type": "execute_result"
    },
    {
     "data": {
      "image/png": "[encoded data removed]",
      "text/plain": [
       "<Figure size 432x288 with 1 Axes>"
      ]
     },
     "metadata": {
      "needs_background": "light"
     },
     "output_type": "display_data"
    }
   ],
   "source": [
    "# BHK vs Price\n",
    "sns.boxplot(x='BHK',y='Price',data=df).set_title('BHK vs Price')"
   ]
  },
  {
   "cell_type": "markdown",
   "id": "f97a4178",
   "metadata": {},
   "source": [
    "From this boxplot, we get to know about the relation between the price of the house and the BHK count. We can see that the price of the house increases with the increase in the BHK count, which evident from the fact that 5 BHK houses have the highes median price i.e. nearly 7,00,00,000 INR followed by 4 BHK houses with median price of nearly 4,00,00,000 INR. Incomparison to that, 3BHK houses have median price near about 1 crore INR and 2BHK houses have median price of nearly 50,00,000 INR. The 1BHK houses have the lowest median price of nearly 30,00,000 INR."
   ]
  },
  {
   "cell_type": "code",
   "execution_count": 30,
   "id": "4e6b7253",
   "metadata": {},
   "outputs": [
    {
     "data": {
      "text/plain": [
       "Text(0.5, 1.0, 'Bathroom vs Price')"
      ]
     },
     "execution_count": 30,
     "metadata": {},
     "output_type": "execute_result"
    },
    {
     "data": {
      "image/png": "[encoded data removed]",
      "text/plain": [
       "<Figure size 432x288 with 1 Axes>"
      ]
     },
     "metadata": {
      "needs_background": "light"
     },
     "output_type": "display_data"
    }
   ],
   "source": [
    "# Bathroom vs Price\n",
    "sns.boxplot(x='Bathroom',y='Price',data=df).set_title('Bathroom vs Price')"
   ]
  },
  {
   "cell_type": "markdown",
   "id": "6a1165ec",
   "metadata": {},
   "source": [
    "The graph is similar to the previous graph for BHK and Price. Here the price of the house increases with increase in the number of bathrooms. Moreover the each bathroom count has similar house price as the previous graph for BHK and Price. Therefore, we can say that number of bathrooms and the BHK of the house are highly correlated."
   ]
  },
  {
   "cell_type": "code",
   "execution_count": 31,
   "id": "0575fe68",
   "metadata": {},
   "outputs": [
    {
     "data": {
      "text/plain": [
       "Text(0.5, 1.0, 'Parking vs Price')"
      ]
     },
     "execution_count": 31,
     "metadata": {},
     "output_type": "execute_result"
    },
    {
     "data": {
      "image/png": "[encoded data removed]",
      "text/plain": [
       "<Figure size 432x288 with 1 Axes>"
      ]
     },
     "metadata": {
      "needs_background": "light"
     },
     "output_type": "display_data"
    }
   ],
   "source": [
    "# Parking vs Price\n",
    "sns.boxplot(x='Parking',y='Price',data=df).set_title('Parking vs Price')"
   ]
  },
  {
   "cell_type": "markdown",
   "id": "69c94caa",
   "metadata": {},
   "source": [
    "This boxplot graphs shows the relationship between the parking space and the price of the house. Houses with 3 parking spaces has highest median price which is 4,50,00,000, followed by 3 parking space, 2 parking space and 1 parking space. From this graph, we can assume that people usually look for the houses to have sufficient parking space, which means they don't want more than enough space for parking which evident throught the lower median price of houses with 4 parking space or more."
   ]
  },
  {
   "cell_type": "code",
   "execution_count": 32,
   "id": "7c319886",
   "metadata": {},
   "outputs": [
    {
     "data": {
      "text/plain": [
       "(array([ 0,  1,  2,  3,  4,  5,  6,  7,  8,  9, 10]),\n",
       " [Text(0, 0, 'Rohini Sector'),\n",
       "  Text(1, 0, 'Lajpat Nagar'),\n",
       "  Text(2, 0, 'Dwarka Sector'),\n",
       "  Text(3, 0, 'Other'),\n",
       "  Text(4, 0, 'Vasant Kunj'),\n",
       "  Text(5, 0, 'Shahdara'),\n",
       "  Text(6, 0, 'Paschim Vihar'),\n",
       "  Text(7, 0, 'Alaknanda'),\n",
       "  Text(8, 0, 'Vasundhara Enclave'),\n",
       "  Text(9, 0, 'Punjabi Bagh'),\n",
       "  Text(10, 0, 'Kalkaji')])"
      ]
     },
     "execution_count": 32,
     "metadata": {},
     "output_type": "execute_result"
    },
    {
     "data": {
      "image/png": "[encoded data removed]",
      "text/plain": [
       "<Figure size 432x288 with 1 Axes>"
      ]
     },
     "metadata": {
      "needs_background": "light"
     },
     "output_type": "display_data"
    }
   ],
   "source": [
    "# Locality vs Price\n",
    "sns.boxplot(x='Locality',y='Price',data=df).set_title('Locality vs Price')\n",
    "plt.xticks(rotation=90)"
   ]
  },
  {
   "cell_type": "markdown",
   "id": "2ce3f19c",
   "metadata": {},
   "source": [
    "From this graph, we can get idea about the localities along with the house price. Punjabi Bagh locality has the highest median price of nearly 2,50,00,000 INR, which means this is a posh locality. Punjabi Bagh is followed by Lagpat Nagar and Vasant Kunj. These two localities can be included in the posh locality. The localities with lowest median prices includes - Rohini Sector, Vasundhara Enclave and Shahdara. Some of the mediocre localities are - Dwarka Sector, Pashchim Vihar, Kalkaji, and the rest of the localities are average."
   ]
  },
  {
   "cell_type": "code",
   "execution_count": 33,
   "id": "8923fb19",
   "metadata": {},
   "outputs": [
    {
     "data": {
      "text/plain": [
       "Text(0.5, 1.0, 'Furnishing vs Price')"
      ]
     },
     "execution_count": 33,
     "metadata": {},
     "output_type": "execute_result"
    },
    {
     "data": {
      "image/png": "[encoded data removed]",
      "text/plain": [
       "<Figure size 432x288 with 1 Axes>"
      ]
     },
     "metadata": {
      "needs_background": "light"
     },
     "output_type": "display_data"
    }
   ],
   "source": [
    "# Furnishing and Price\n",
    "sns.boxplot(x = 'Furnishing', y = 'Price', data = df).set_title('Furnishing vs Price')"
   ]
  },
  {
   "cell_type": "markdown",
   "id": "6772917c",
   "metadata": {},
   "source": [
    "There is very little difference in the median house price based on the furnishing status. Interestingly, the furnished houses have a lower median price than the semi-furnished houses. The unfurnished houses have the lowest median price."
   ]
  },
  {
   "cell_type": "code",
   "execution_count": 34,
   "id": "0df1748e",
   "metadata": {},
   "outputs": [
    {
     "data": {
      "text/plain": [
       "Text(0.5, 1.0, 'Price vs Status')"
      ]
     },
     "execution_count": 34,
     "metadata": {},
     "output_type": "execute_result"
    },
    {
     "data": {
      "image/png": "[encoded data removed]",
      "text/plain": [
       "<Figure size 432x288 with 1 Axes>"
      ]
     },
     "metadata": {
      "needs_background": "light"
     },
     "output_type": "display_data"
    }
   ],
   "source": [
    "# Status and Price\n",
    "sns.boxplot(x = 'Status', y = 'Price', data = df).set_title('Price vs Status')"
   ]
  },
  {
   "cell_type": "markdown",
   "id": "76e74025",
   "metadata": {},
   "source": [
    "Surprisingly the houses that are still under construction have higher median price than those which are ready to move in. This might be because the houses that are still under construction allow the buyers to make changes to interior/exterior."
   ]
  },
  {
   "cell_type": "code",
   "execution_count": 35,
   "id": "771a962e",
   "metadata": {},
   "outputs": [
    {
     "data": {
      "text/plain": [
       "Text(0.5, 1.0, 'Transaction vs Price')"
      ]
     },
     "execution_count": 35,
     "metadata": {},
     "output_type": "execute_result"
    },
    {
     "data": {
      "image/png": "[encoded data removed]",
      "text/plain": [
       "<Figure size 432x288 with 1 Axes>"
      ]
     },
     "metadata": {
      "needs_background": "light"
     },
     "output_type": "display_data"
    }
   ],
   "source": [
    "# Transaction Type and Price\n",
    "sns.boxplot(x = 'Transaction', y = 'Price', data = df).set_title('Transaction vs Price')"
   ]
  },
  {
   "cell_type": "markdown",
   "id": "11475e3a",
   "metadata": {},
   "source": [
    "As expected the new properties have higher price than old ones/ resale ones. The new properties attracts more buyers to make features including reliability, designs. Whereas the resale one sometimes poses doubts for the buyers."
   ]
  },
  {
   "cell_type": "code",
   "execution_count": 36,
   "id": "0303f9a4",
   "metadata": {},
   "outputs": [
    {
     "data": {
      "text/plain": [
       "Text(0.5, 1.0, 'Price vs Type')"
      ]
     },
     "execution_count": 36,
     "metadata": {},
     "output_type": "execute_result"
    },
    {
     "data": {
      "image/png": "[encoded data removed]",
      "text/plain": [
       "<Figure size 432x288 with 1 Axes>"
      ]
     },
     "metadata": {
      "needs_background": "light"
     },
     "output_type": "display_data"
    }
   ],
   "source": [
    "# Property Type and Price\n",
    "sns.boxplot(x = 'Type', y = 'Price', data = df).set_title('Price vs Type')"
   ]
  },
  {
   "cell_type": "markdown",
   "id": "35fbfb1c",
   "metadata": {},
   "source": [
    "Both the Builder Floor and Apartment type houses have nealry same median price with Apartment type houses having slightly higher median price. However, the builder floor type houses are more in number which means people are more interested in buying builder floor type houses."
   ]
  },
  {
   "cell_type": "markdown",
   "id": "c140bbbb",
   "metadata": {},
   "source": [
    "## Data Preprocessing 2"
   ]
  },
  {
   "cell_type": "markdown",
   "id": "4c8cb79b",
   "metadata": {},
   "source": [
    "Lable Encoder the categorical variables"
   ]
  },
  {
   "cell_type": "code",
   "execution_count": 37,
   "id": "79c604ff",
   "metadata": {},
   "outputs": [
    {
     "data": {
      "text/plain": [
       "array(['Semi-Furnished', 'Furnished', 'Unfurnished'], dtype=object)"
      ]
     },
     "execution_count": 37,
     "metadata": {},
     "output_type": "execute_result"
    }
   ],
   "source": [
    "df['Furnishing'].unique()"
   ]
  },
  {
   "cell_type": "code",
   "execution_count": 38,
   "id": "816fa7db",
   "metadata": {},
   "outputs": [],
   "source": [
    "# one way of doiong is that using map function\n",
    "df['Furnishing'] = df['Furnishing'].map({'Semi-Furnished':2, 'Furnished':1, 'Unfurnished':0})"
   ]
  },
  {
   "cell_type": "code",
   "execution_count": 39,
   "id": "e44319c7",
   "metadata": {},
   "outputs": [
    {
     "name": "stdout",
     "output_type": "stream",
     "text": [
      "Locality [ 7  3  1  4  9  8  5  0 10  6  2]\n",
      "Status [1 0]\n",
      "Transaction [0 1]\n",
      "Type [1 0]\n"
     ]
    }
   ],
   "source": [
    "# but we have various columns to perform categorical variable\n",
    "# so we can use labelencoder\n",
    "\n",
    "from sklearn.preprocessing import LabelEncoder\n",
    "\n",
    "le = LabelEncoder()\n",
    "\n",
    "cols = ['Locality','Status','Transaction','Type']\n",
    "\n",
    "for i in cols:\n",
    "    le.fit(df[i])\n",
    "    df[i] = le.transform(df[i])\n",
    "    print(i,df[i].unique())"
   ]
  },
  {
   "cell_type": "code",
   "execution_count": 40,
   "id": "acb7301e",
   "metadata": {},
   "outputs": [
    {
     "data": {
      "text/html": [
       "<div>\n",
       "<style scoped>\n",
       "    .dataframe tbody tr th:only-of-type {\n",
       "        vertical-align: middle;\n",
       "    }\n",
       "\n",
       "    .dataframe tbody tr th {\n",
       "        vertical-align: top;\n",
       "    }\n",
       "\n",
       "    .dataframe thead th {\n",
       "        text-align: right;\n",
       "    }\n",
       "</style>\n",
       "<table border=\"1\" class=\"dataframe\">\n",
       "  <thead>\n",
       "    <tr style=\"text-align: right;\">\n",
       "      <th></th>\n",
       "      <th>Area</th>\n",
       "      <th>BHK</th>\n",
       "      <th>Bathroom</th>\n",
       "      <th>Furnishing</th>\n",
       "      <th>Locality</th>\n",
       "      <th>Parking</th>\n",
       "      <th>Price</th>\n",
       "      <th>Status</th>\n",
       "      <th>Transaction</th>\n",
       "      <th>Type</th>\n",
       "      <th>Per_Sqft</th>\n",
       "      <th>Area_Yards</th>\n",
       "    </tr>\n",
       "  </thead>\n",
       "  <tbody>\n",
       "    <tr>\n",
       "      <th>0</th>\n",
       "      <td>800.0</td>\n",
       "      <td>3</td>\n",
       "      <td>2.0</td>\n",
       "      <td>2</td>\n",
       "      <td>7</td>\n",
       "      <td>1.0</td>\n",
       "      <td>6500000</td>\n",
       "      <td>1</td>\n",
       "      <td>0</td>\n",
       "      <td>1</td>\n",
       "      <td>8125.0</td>\n",
       "      <td>88.888889</td>\n",
       "    </tr>\n",
       "    <tr>\n",
       "      <th>1</th>\n",
       "      <td>750.0</td>\n",
       "      <td>2</td>\n",
       "      <td>2.0</td>\n",
       "      <td>2</td>\n",
       "      <td>7</td>\n",
       "      <td>1.0</td>\n",
       "      <td>5000000</td>\n",
       "      <td>1</td>\n",
       "      <td>0</td>\n",
       "      <td>0</td>\n",
       "      <td>6667.0</td>\n",
       "      <td>83.333333</td>\n",
       "    </tr>\n",
       "    <tr>\n",
       "      <th>2</th>\n",
       "      <td>950.0</td>\n",
       "      <td>2</td>\n",
       "      <td>2.0</td>\n",
       "      <td>1</td>\n",
       "      <td>7</td>\n",
       "      <td>1.0</td>\n",
       "      <td>15500000</td>\n",
       "      <td>1</td>\n",
       "      <td>1</td>\n",
       "      <td>0</td>\n",
       "      <td>6667.0</td>\n",
       "      <td>105.555556</td>\n",
       "    </tr>\n",
       "    <tr>\n",
       "      <th>3</th>\n",
       "      <td>600.0</td>\n",
       "      <td>2</td>\n",
       "      <td>2.0</td>\n",
       "      <td>2</td>\n",
       "      <td>7</td>\n",
       "      <td>1.0</td>\n",
       "      <td>4200000</td>\n",
       "      <td>1</td>\n",
       "      <td>1</td>\n",
       "      <td>1</td>\n",
       "      <td>6667.0</td>\n",
       "      <td>66.666667</td>\n",
       "    </tr>\n",
       "    <tr>\n",
       "      <th>4</th>\n",
       "      <td>650.0</td>\n",
       "      <td>2</td>\n",
       "      <td>2.0</td>\n",
       "      <td>2</td>\n",
       "      <td>7</td>\n",
       "      <td>1.0</td>\n",
       "      <td>6200000</td>\n",
       "      <td>1</td>\n",
       "      <td>0</td>\n",
       "      <td>1</td>\n",
       "      <td>6667.0</td>\n",
       "      <td>72.222222</td>\n",
       "    </tr>\n",
       "  </tbody>\n",
       "</table>\n",
       "</div>"
      ],
      "text/plain": [
       "    Area  BHK  Bathroom  Furnishing  Locality  Parking     Price  Status  \\\n",
       "0  800.0    3       2.0           2         7      1.0   6500000       1   \n",
       "1  750.0    2       2.0           2         7      1.0   5000000       1   \n",
       "2  950.0    2       2.0           1         7      1.0  15500000       1   \n",
       "3  600.0    2       2.0           2         7      1.0   4200000       1   \n",
       "4  650.0    2       2.0           2         7      1.0   6200000       1   \n",
       "\n",
       "   Transaction  Type  Per_Sqft  Area_Yards  \n",
       "0            0     1    8125.0   88.888889  \n",
       "1            0     0    6667.0   83.333333  \n",
       "2            1     0    6667.0  105.555556  \n",
       "3            1     1    6667.0   66.666667  \n",
       "4            0     1    6667.0   72.222222  "
      ]
     },
     "execution_count": 40,
     "metadata": {},
     "output_type": "execute_result"
    }
   ],
   "source": [
    "df.head()"
   ]
  },
  {
   "cell_type": "code",
   "execution_count": 41,
   "id": "b04e322f",
   "metadata": {},
   "outputs": [
    {
     "data": {
      "text/plain": [
       "Area           float64\n",
       "BHK              int64\n",
       "Bathroom       float64\n",
       "Furnishing       int64\n",
       "Locality         int32\n",
       "Parking        float64\n",
       "Price            int64\n",
       "Status           int32\n",
       "Transaction      int32\n",
       "Type             int32\n",
       "Per_Sqft       float64\n",
       "Area_Yards     float64\n",
       "dtype: object"
      ]
     },
     "execution_count": 41,
     "metadata": {},
     "output_type": "execute_result"
    }
   ],
   "source": [
    "df.dtypes"
   ]
  },
  {
   "cell_type": "code",
   "execution_count": 42,
   "id": "52e125ec",
   "metadata": {},
   "outputs": [],
   "source": [
    "# Normalizing the continuous features\n",
    "from sklearn.preprocessing import MinMaxScaler\n",
    "min_max = MinMaxScaler()\n",
    "df[['Area','Price','Per_Sqft','Area_Yards']] = MinMaxScaler().fit_transform(df[['Area','Price','Per_Sqft','Area_Yards']])"
   ]
  },
  {
   "cell_type": "code",
   "execution_count": 43,
   "id": "50e6af42",
   "metadata": {},
   "outputs": [
    {
     "data": {
      "text/html": [
       "<div>\n",
       "<style scoped>\n",
       "    .dataframe tbody tr th:only-of-type {\n",
       "        vertical-align: middle;\n",
       "    }\n",
       "\n",
       "    .dataframe tbody tr th {\n",
       "        vertical-align: top;\n",
       "    }\n",
       "\n",
       "    .dataframe thead th {\n",
       "        text-align: right;\n",
       "    }\n",
       "</style>\n",
       "<table border=\"1\" class=\"dataframe\">\n",
       "  <thead>\n",
       "    <tr style=\"text-align: right;\">\n",
       "      <th></th>\n",
       "      <th>Area</th>\n",
       "      <th>BHK</th>\n",
       "      <th>Bathroom</th>\n",
       "      <th>Furnishing</th>\n",
       "      <th>Locality</th>\n",
       "      <th>Parking</th>\n",
       "      <th>Price</th>\n",
       "      <th>Status</th>\n",
       "      <th>Transaction</th>\n",
       "      <th>Type</th>\n",
       "      <th>Per_Sqft</th>\n",
       "      <th>Area_Yards</th>\n",
       "    </tr>\n",
       "  </thead>\n",
       "  <tbody>\n",
       "    <tr>\n",
       "      <th>0</th>\n",
       "      <td>0.148690</td>\n",
       "      <td>3</td>\n",
       "      <td>2.0</td>\n",
       "      <td>2</td>\n",
       "      <td>7</td>\n",
       "      <td>1.0</td>\n",
       "      <td>0.059783</td>\n",
       "      <td>1</td>\n",
       "      <td>0</td>\n",
       "      <td>1</td>\n",
       "      <td>0.097173</td>\n",
       "      <td>0.148690</td>\n",
       "    </tr>\n",
       "    <tr>\n",
       "      <th>1</th>\n",
       "      <td>0.139060</td>\n",
       "      <td>2</td>\n",
       "      <td>2.0</td>\n",
       "      <td>2</td>\n",
       "      <td>7</td>\n",
       "      <td>1.0</td>\n",
       "      <td>0.043478</td>\n",
       "      <td>1</td>\n",
       "      <td>0</td>\n",
       "      <td>0</td>\n",
       "      <td>0.076565</td>\n",
       "      <td>0.139060</td>\n",
       "    </tr>\n",
       "    <tr>\n",
       "      <th>2</th>\n",
       "      <td>0.177581</td>\n",
       "      <td>2</td>\n",
       "      <td>2.0</td>\n",
       "      <td>1</td>\n",
       "      <td>7</td>\n",
       "      <td>1.0</td>\n",
       "      <td>0.157609</td>\n",
       "      <td>1</td>\n",
       "      <td>1</td>\n",
       "      <td>0</td>\n",
       "      <td>0.076565</td>\n",
       "      <td>0.177581</td>\n",
       "    </tr>\n",
       "    <tr>\n",
       "      <th>3</th>\n",
       "      <td>0.110169</td>\n",
       "      <td>2</td>\n",
       "      <td>2.0</td>\n",
       "      <td>2</td>\n",
       "      <td>7</td>\n",
       "      <td>1.0</td>\n",
       "      <td>0.034783</td>\n",
       "      <td>1</td>\n",
       "      <td>1</td>\n",
       "      <td>1</td>\n",
       "      <td>0.076565</td>\n",
       "      <td>0.110169</td>\n",
       "    </tr>\n",
       "    <tr>\n",
       "      <th>4</th>\n",
       "      <td>0.119800</td>\n",
       "      <td>2</td>\n",
       "      <td>2.0</td>\n",
       "      <td>2</td>\n",
       "      <td>7</td>\n",
       "      <td>1.0</td>\n",
       "      <td>0.056522</td>\n",
       "      <td>1</td>\n",
       "      <td>0</td>\n",
       "      <td>1</td>\n",
       "      <td>0.076565</td>\n",
       "      <td>0.119800</td>\n",
       "    </tr>\n",
       "  </tbody>\n",
       "</table>\n",
       "</div>"
      ],
      "text/plain": [
       "       Area  BHK  Bathroom  Furnishing  Locality  Parking     Price  Status  \\\n",
       "0  0.148690    3       2.0           2         7      1.0  0.059783       1   \n",
       "1  0.139060    2       2.0           2         7      1.0  0.043478       1   \n",
       "2  0.177581    2       2.0           1         7      1.0  0.157609       1   \n",
       "3  0.110169    2       2.0           2         7      1.0  0.034783       1   \n",
       "4  0.119800    2       2.0           2         7      1.0  0.056522       1   \n",
       "\n",
       "   Transaction  Type  Per_Sqft  Area_Yards  \n",
       "0            0     1  0.097173    0.148690  \n",
       "1            0     0  0.076565    0.139060  \n",
       "2            1     0  0.076565    0.177581  \n",
       "3            1     1  0.076565    0.110169  \n",
       "4            0     1  0.076565    0.119800  "
      ]
     },
     "execution_count": 43,
     "metadata": {},
     "output_type": "execute_result"
    }
   ],
   "source": [
    "df.head()"
   ]
  },
  {
   "cell_type": "code",
   "execution_count": 44,
   "id": "d5f7be86",
   "metadata": {},
   "outputs": [
    {
     "data": {
      "text/plain": [
       "<AxesSubplot:>"
      ]
     },
     "execution_count": 44,
     "metadata": {},
     "output_type": "execute_result"
    },
    {
     "data": {
      "image/png": "[encoded data removed]",
      "text/plain": [
       "<Figure size 720x720 with 2 Axes>"
      ]
     },
     "metadata": {
      "needs_background": "light"
     },
     "output_type": "display_data"
    }
   ],
   "source": [
    "# Coorelation Matrix Heatmap\n",
    "plt.figure(figsize=(10,10))\n",
    "sns.heatmap(df.corr(),annot=True,cmap='coolwarm')"
   ]
  },
  {
   "cell_type": "markdown",
   "id": "4df01dd7",
   "metadata": {},
   "source": [
    "In this coorelation matrix heatmap, we can see that the price of the house has high positive coorelation with land area, BHK, bathroom count, which proves are previous obersevation about their relation"
   ]
  },
  {
   "cell_type": "markdown",
   "id": "adc10663",
   "metadata": {},
   "source": [
    "## Model Evolution"
   ]
  },
  {
   "cell_type": "code",
   "execution_count": 45,
   "id": "ab55fe33",
   "metadata": {},
   "outputs": [],
   "source": [
    "df.drop(['Per_Sqft'],axis=1,inplace=True)"
   ]
  },
  {
   "cell_type": "markdown",
   "id": "3eafa727",
   "metadata": {},
   "source": [
    "#### Train Test Split"
   ]
  },
  {
   "cell_type": "code",
   "execution_count": 46,
   "id": "be3cf16b",
   "metadata": {},
   "outputs": [],
   "source": [
    "from sklearn.model_selection import train_test_split\n",
    "X_train,X_test,y_train,y_test = train_test_split(df.drop('Price',axis=1),df['Price'],test_size=0.33,random_state=42)"
   ]
  },
  {
   "cell_type": "markdown",
   "id": "e769a7fc",
   "metadata": {},
   "source": [
    "### Price Prediction"
   ]
  },
  {
   "cell_type": "markdown",
   "id": "a11912a7",
   "metadata": {},
   "source": [
    "I will be using the following models:\n",
    "   - Decesion Tree Regressor\n",
    "   - Random Forest Regressor"
   ]
  },
  {
   "cell_type": "markdown",
   "id": "4de5b4c0",
   "metadata": {},
   "source": [
    "### Decision Tree Regressor"
   ]
  },
  {
   "cell_type": "code",
   "execution_count": 47,
   "id": "1c86225e",
   "metadata": {},
   "outputs": [],
   "source": [
    "from sklearn.tree import DecisionTreeRegressor"
   ]
  },
  {
   "cell_type": "code",
   "execution_count": 48,
   "id": "247372ed",
   "metadata": {},
   "outputs": [],
   "source": [
    "dtr = DecisionTreeRegressor()"
   ]
  },
  {
   "cell_type": "code",
   "execution_count": 49,
   "id": "dff5483f",
   "metadata": {},
   "outputs": [
    {
     "data": {
      "text/plain": [
       "DecisionTreeRegressor()"
      ]
     },
     "execution_count": 49,
     "metadata": {},
     "output_type": "execute_result"
    }
   ],
   "source": [
    "dtr.fit(X_train,y_train)"
   ]
  },
  {
   "cell_type": "code",
   "execution_count": 50,
   "id": "21a2a91b",
   "metadata": {},
   "outputs": [
    {
     "name": "stdout",
     "output_type": "stream",
     "text": [
      "Best parameters:  {'max_depth': 8, 'max_features': 'sqrt', 'min_samples_leaf': 1, 'min_samples_split': 8, 'random_state': 42}\n"
     ]
    }
   ],
   "source": [
    "# Hypertuning the model with GridSearchCV\n",
    "from sklearn.model_selection import GridSearchCV\n",
    "\n",
    "parameters = {'max_depth':[2,4,6,8],\n",
    "               'min_samples_split':[2,4,6,8],\n",
    "               'min_samples_leaf':[1,2,3,4],\n",
    "               'max_features':['auto','sqrt','log2'],\n",
    "               'random_state':[0,42]}\n",
    "\n",
    "grid_search = GridSearchCV(dtr, parameters, cv=5, scoring='neg_mean_squared_error')\n",
    "\n",
    "grid_search.fit(X_train, y_train)\n",
    "\n",
    "print(\"Best parameters: \", grid_search.best_params_)"
   ]
  },
  {
   "cell_type": "code",
   "execution_count": 51,
   "id": "12799f86",
   "metadata": {},
   "outputs": [
    {
     "data": {
      "text/plain": [
       "0.9902695142138077"
      ]
     },
     "execution_count": 51,
     "metadata": {},
     "output_type": "execute_result"
    }
   ],
   "source": [
    "dtr.score(X_train,y_train)"
   ]
  },
  {
   "cell_type": "code",
   "execution_count": 52,
   "id": "c574437c",
   "metadata": {},
   "outputs": [],
   "source": [
    "d_pred = dtr.predict(X_test)"
   ]
  },
  {
   "cell_type": "code",
   "execution_count": 53,
   "id": "00d041f6",
   "metadata": {},
   "outputs": [
    {
     "data": {
      "text/html": [
       "<div>\n",
       "<style scoped>\n",
       "    .dataframe tbody tr th:only-of-type {\n",
       "        vertical-align: middle;\n",
       "    }\n",
       "\n",
       "    .dataframe tbody tr th {\n",
       "        vertical-align: top;\n",
       "    }\n",
       "\n",
       "    .dataframe thead th {\n",
       "        text-align: right;\n",
       "    }\n",
       "</style>\n",
       "<table border=\"1\" class=\"dataframe\">\n",
       "  <thead>\n",
       "    <tr style=\"text-align: right;\">\n",
       "      <th></th>\n",
       "      <th>Actual</th>\n",
       "      <th>Predicted</th>\n",
       "    </tr>\n",
       "  </thead>\n",
       "  <tbody>\n",
       "    <tr>\n",
       "      <th>0</th>\n",
       "      <td>0.190217</td>\n",
       "      <td>0.000000</td>\n",
       "    </tr>\n",
       "    <tr>\n",
       "      <th>1</th>\n",
       "      <td>0.597826</td>\n",
       "      <td>0.505435</td>\n",
       "    </tr>\n",
       "    <tr>\n",
       "      <th>2</th>\n",
       "      <td>0.076087</td>\n",
       "      <td>0.082065</td>\n",
       "    </tr>\n",
       "    <tr>\n",
       "      <th>3</th>\n",
       "      <td>0.009239</td>\n",
       "      <td>0.050000</td>\n",
       "    </tr>\n",
       "    <tr>\n",
       "      <th>4</th>\n",
       "      <td>0.028261</td>\n",
       "      <td>0.010870</td>\n",
       "    </tr>\n",
       "    <tr>\n",
       "      <th>5</th>\n",
       "      <td>0.641304</td>\n",
       "      <td>0.457609</td>\n",
       "    </tr>\n",
       "    <tr>\n",
       "      <th>6</th>\n",
       "      <td>0.217391</td>\n",
       "      <td>0.423913</td>\n",
       "    </tr>\n",
       "    <tr>\n",
       "      <th>7</th>\n",
       "      <td>0.157609</td>\n",
       "      <td>0.173913</td>\n",
       "    </tr>\n",
       "    <tr>\n",
       "      <th>8</th>\n",
       "      <td>0.695652</td>\n",
       "      <td>0.260870</td>\n",
       "    </tr>\n",
       "    <tr>\n",
       "      <th>9</th>\n",
       "      <td>0.039348</td>\n",
       "      <td>0.039348</td>\n",
       "    </tr>\n",
       "  </tbody>\n",
       "</table>\n",
       "</div>"
      ],
      "text/plain": [
       "     Actual  Predicted\n",
       "0  0.190217   0.000000\n",
       "1  0.597826   0.505435\n",
       "2  0.076087   0.082065\n",
       "3  0.009239   0.050000\n",
       "4  0.028261   0.010870\n",
       "5  0.641304   0.457609\n",
       "6  0.217391   0.423913\n",
       "7  0.157609   0.173913\n",
       "8  0.695652   0.260870\n",
       "9  0.039348   0.039348"
      ]
     },
     "execution_count": 53,
     "metadata": {},
     "output_type": "execute_result"
    }
   ],
   "source": [
    "# Evaluting Decision Tree Regressor Model\n",
    "dft = pd.DataFrame({'Actual':y_test,'Predicted':d_pred})\n",
    "dft.reset_index(drop=True,inplace=True)\n",
    "dft.head(10)"
   ]
  },
  {
   "cell_type": "code",
   "execution_count": 54,
   "id": "ad205d43",
   "metadata": {},
   "outputs": [
    {
     "name": "stderr",
     "output_type": "stream",
     "text": [
      "C:\\Users\\enama\\anaconda3\\lib\\site-packages\\seaborn\\distributions.py:2619: FutureWarning: `distplot` is a deprecated function and will be removed in a future version. Please adapt your code to use either `displot` (a figure-level function with similar flexibility) or `kdeplot` (an axes-level function for kernel density plots).\n",
      "  warnings.warn(msg, FutureWarning)\n",
      "C:\\Users\\enama\\anaconda3\\lib\\site-packages\\seaborn\\distributions.py:2619: FutureWarning: `distplot` is a deprecated function and will be removed in a future version. Please adapt your code to use either `displot` (a figure-level function with similar flexibility) or `kdeplot` (an axes-level function for kernel density plots).\n",
      "  warnings.warn(msg, FutureWarning)\n"
     ]
    },
    {
     "data": {
      "text/plain": [
       "<AxesSubplot:xlabel='Predicted', ylabel='Density'>"
      ]
     },
     "execution_count": 54,
     "metadata": {},
     "output_type": "execute_result"
    },
    {
     "data": {
      "image/png": "[encoded data removed]",
      "text/plain": [
       "<Figure size 432x288 with 1 Axes>"
      ]
     },
     "metadata": {
      "needs_background": "light"
     },
     "output_type": "display_data"
    }
   ],
   "source": [
    "ax = sns.distplot(dft['Actual'], color = 'r', label = 'Actual Price', hist = False)\n",
    "sns.distplot(dft['Predicted'], color = 'g', label = 'Predicted Price', ax=ax, hist = False)"
   ]
  },
  {
   "cell_type": "markdown",
   "id": "543d2b2d",
   "metadata": {},
   "source": [
    "The red shows the distribution count for actual values and the green shows the distribution count for predicted values. The predicted value line tries to follow the actual value line as closely as possible. The closer the two lines are, the better the model is at predicting the house prices."
   ]
  },
  {
   "cell_type": "code",
   "execution_count": 55,
   "id": "ce224df8",
   "metadata": {},
   "outputs": [
    {
     "name": "stdout",
     "output_type": "stream",
     "text": [
      "R2 Score:  0.6534769927136412\n",
      "Mean Squared Error:  0.012889158973721225\n",
      "Mean Absolute Error:  0.06623368182321054\n",
      "Root Mean Squared Error:  0.11353043192783698\n"
     ]
    }
   ],
   "source": [
    "from sklearn.metrics import r2_score, mean_squared_error, mean_absolute_error\n",
    "print(\"R2 Score: \", r2_score(y_test, d_pred))\n",
    "print(\"Mean Squared Error: \", mean_squared_error(y_test, d_pred))\n",
    "print(\"Mean Absolute Error: \", mean_absolute_error(y_test, d_pred))\n",
    "print(\"Root Mean Squared Error: \", np.sqrt(mean_squared_error(y_test, d_pred)))"
   ]
  },
  {
   "cell_type": "markdown",
   "id": "d2e9b522",
   "metadata": {},
   "source": [
    "### Random Forest Regressor"
   ]
  },
  {
   "cell_type": "code",
   "execution_count": 56,
   "id": "d8baea67",
   "metadata": {},
   "outputs": [],
   "source": [
    "from sklearn.ensemble import RandomForestRegressor\n",
    "rfr = RandomForestRegressor()"
   ]
  },
  {
   "cell_type": "code",
   "execution_count": 57,
   "id": "724d73e7",
   "metadata": {},
   "outputs": [
    {
     "data": {
      "text/plain": [
       "RandomForestRegressor()"
      ]
     },
     "execution_count": 57,
     "metadata": {},
     "output_type": "execute_result"
    }
   ],
   "source": [
    "rfr.fit(X_train,y_train)"
   ]
  },
  {
   "cell_type": "code",
   "execution_count": 58,
   "id": "56baf7f5",
   "metadata": {},
   "outputs": [
    {
     "data": {
      "text/plain": [
       "0.9633937795701915"
      ]
     },
     "execution_count": 58,
     "metadata": {},
     "output_type": "execute_result"
    }
   ],
   "source": [
    "rfr.score(X_train,y_train)"
   ]
  },
  {
   "cell_type": "code",
   "execution_count": 59,
   "id": "6b7d851b",
   "metadata": {},
   "outputs": [],
   "source": [
    "r_pred = rfr.predict(X_test)"
   ]
  },
  {
   "cell_type": "code",
   "execution_count": 60,
   "id": "b70b564e",
   "metadata": {},
   "outputs": [
    {
     "data": {
      "text/html": [
       "<div>\n",
       "<style scoped>\n",
       "    .dataframe tbody tr th:only-of-type {\n",
       "        vertical-align: middle;\n",
       "    }\n",
       "\n",
       "    .dataframe tbody tr th {\n",
       "        vertical-align: top;\n",
       "    }\n",
       "\n",
       "    .dataframe thead th {\n",
       "        text-align: right;\n",
       "    }\n",
       "</style>\n",
       "<table border=\"1\" class=\"dataframe\">\n",
       "  <thead>\n",
       "    <tr style=\"text-align: right;\">\n",
       "      <th></th>\n",
       "      <th>Actual</th>\n",
       "      <th>Predicted</th>\n",
       "    </tr>\n",
       "  </thead>\n",
       "  <tbody>\n",
       "    <tr>\n",
       "      <th>0</th>\n",
       "      <td>0.190217</td>\n",
       "      <td>0.152826</td>\n",
       "    </tr>\n",
       "    <tr>\n",
       "      <th>1</th>\n",
       "      <td>0.597826</td>\n",
       "      <td>0.507293</td>\n",
       "    </tr>\n",
       "    <tr>\n",
       "      <th>2</th>\n",
       "      <td>0.076087</td>\n",
       "      <td>0.077803</td>\n",
       "    </tr>\n",
       "    <tr>\n",
       "      <th>3</th>\n",
       "      <td>0.009239</td>\n",
       "      <td>0.030984</td>\n",
       "    </tr>\n",
       "    <tr>\n",
       "      <th>4</th>\n",
       "      <td>0.028261</td>\n",
       "      <td>0.012007</td>\n",
       "    </tr>\n",
       "    <tr>\n",
       "      <th>5</th>\n",
       "      <td>0.641304</td>\n",
       "      <td>0.510522</td>\n",
       "    </tr>\n",
       "    <tr>\n",
       "      <th>6</th>\n",
       "      <td>0.217391</td>\n",
       "      <td>0.329728</td>\n",
       "    </tr>\n",
       "    <tr>\n",
       "      <th>7</th>\n",
       "      <td>0.157609</td>\n",
       "      <td>0.184950</td>\n",
       "    </tr>\n",
       "    <tr>\n",
       "      <th>8</th>\n",
       "      <td>0.695652</td>\n",
       "      <td>0.269891</td>\n",
       "    </tr>\n",
       "    <tr>\n",
       "      <th>9</th>\n",
       "      <td>0.039348</td>\n",
       "      <td>0.039134</td>\n",
       "    </tr>\n",
       "  </tbody>\n",
       "</table>\n",
       "</div>"
      ],
      "text/plain": [
       "     Actual  Predicted\n",
       "0  0.190217   0.152826\n",
       "1  0.597826   0.507293\n",
       "2  0.076087   0.077803\n",
       "3  0.009239   0.030984\n",
       "4  0.028261   0.012007\n",
       "5  0.641304   0.510522\n",
       "6  0.217391   0.329728\n",
       "7  0.157609   0.184950\n",
       "8  0.695652   0.269891\n",
       "9  0.039348   0.039134"
      ]
     },
     "execution_count": 60,
     "metadata": {},
     "output_type": "execute_result"
    }
   ],
   "source": [
    "dfr = pd.DataFrame({'Actual':y_test,'Predicted':r_pred})\n",
    "dfr.reset_index(drop=True,inplace=True)\n",
    "dfr.head(10)"
   ]
  },
  {
   "cell_type": "code",
   "execution_count": 61,
   "id": "374b60af",
   "metadata": {},
   "outputs": [
    {
     "name": "stderr",
     "output_type": "stream",
     "text": [
      "C:\\Users\\enama\\anaconda3\\lib\\site-packages\\seaborn\\distributions.py:2619: FutureWarning: `distplot` is a deprecated function and will be removed in a future version. Please adapt your code to use either `displot` (a figure-level function with similar flexibility) or `kdeplot` (an axes-level function for kernel density plots).\n",
      "  warnings.warn(msg, FutureWarning)\n",
      "C:\\Users\\enama\\anaconda3\\lib\\site-packages\\seaborn\\distributions.py:2619: FutureWarning: `distplot` is a deprecated function and will be removed in a future version. Please adapt your code to use either `displot` (a figure-level function with similar flexibility) or `kdeplot` (an axes-level function for kernel density plots).\n",
      "  warnings.warn(msg, FutureWarning)\n"
     ]
    },
    {
     "data": {
      "text/plain": [
       "<AxesSubplot:xlabel='Predicted', ylabel='Density'>"
      ]
     },
     "execution_count": 61,
     "metadata": {},
     "output_type": "execute_result"
    },
    {
     "data": {
      "image/png": "[encoded data removed]",
      "text/plain": [
       "<Figure size 432x288 with 1 Axes>"
      ]
     },
     "metadata": {
      "needs_background": "light"
     },
     "output_type": "display_data"
    }
   ],
   "source": [
    "ax = sns.distplot(dfr['Actual'],color='r',label='Actual Price',hist=False)\n",
    "sns.distplot(dfr['Predicted'],color='g',label='Predicted Price',hist=False)"
   ]
  },
  {
   "cell_type": "markdown",
   "id": "2a199d97",
   "metadata": {},
   "source": [
    "The red shows the distribution count for actual values and the green shows the distribution count for predicted values. The predicted value line tries to follow the actual value line as closely as possible. The closer the two lines are, the better the model is at predicting the house prices."
   ]
  },
  {
   "cell_type": "code",
   "execution_count": 62,
   "id": "d848a87f",
   "metadata": {},
   "outputs": [
    {
     "name": "stdout",
     "output_type": "stream",
     "text": [
      "R2 Score:  0.7801195816359896\n",
      "Mean Squared Error:  0.008178601731803759\n",
      "Mean Absolute Error:  0.054459764439473195\n",
      "Root Mean Squared Error:  0.09043562202917475\n"
     ]
    }
   ],
   "source": [
    "print('R2 Score: ',r2_score(y_test,r_pred))\n",
    "print('Mean Squared Error: ',mean_squared_error(y_test,r_pred))\n",
    "print(\"Mean Absolute Error: \", mean_absolute_error(y_test, r_pred))\n",
    "print(\"Root Mean Squared Error: \", np.sqrt(mean_squared_error(y_test, r_pred)))"
   ]
  },
  {
   "cell_type": "markdown",
   "id": "e7a0e1aa",
   "metadata": {},
   "source": [
    "## Conclusion"
   ]
  },
  {
   "cell_type": "markdown",
   "id": "8317eacd",
   "metadata": {},
   "source": [
    "From the exploratory data analysis, we can conclude that the following features are important for predicting the price of a house in Delhi:\n",
    "\n",
    "1. Area\n",
    "2. BHK\n",
    "3. Locality"
   ]
  },
  {
   "cell_type": "markdown",
   "id": "bfb5deae",
   "metadata": {},
   "source": [
    "From the EDA it was also found that, most of the houses in delhi are small having area between 100 to 200 sq. yards having 2-3 BHK. The price of the houses in localities such as Punjabi Bagh, Lajpat nagar and Vasant Kunj are high as compared to other localities, which means these are posh areas of Delhi. Most of the people prefer a new builder floor property despite the aprtments cost the same because people want to design their house according to their own needs and requirements and want more privacy and independency."
   ]
  },
  {
   "cell_type": "markdown",
   "id": "dede3eb7",
   "metadata": {},
   "source": [
    "Coming to the machine learning models, I have used regression models - Decision Tree Regressor and Random Forest Regressor. The Random Forest regressor performed better than the Decision Tree Regressor with an accuracy of 78.70%"
   ]
  }
 ],
 "metadata": {
  "kernelspec": {
   "display_name": "Python 3 (ipykernel)",
   "language": "python",
   "name": "python3"
  },
  "language_info": {
   "codemirror_mode": {
    "name": "ipython",
    "version": 3
   },
   "file_extension": ".py",
   "mimetype": "text/x-python",
   "name": "python",
   "nbconvert_exporter": "python",
   "pygments_lexer": "ipython3",
   "version": "3.9.12"
  }
 },
 "nbformat": 4,
 "nbformat_minor": 5
}
